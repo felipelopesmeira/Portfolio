{
  "nbformat": 4,
  "nbformat_minor": 0,
  "metadata": {
    "colab": {
      "name": "DM_horse_trabalho_v2.ipynb",
      "provenance": [],
      "collapsed_sections": [],
      "toc_visible": true
    },
    "kernelspec": {
      "name": "python3",
      "display_name": "Python 3"
    }
  },
  "cells": [
    {
      "cell_type": "markdown",
      "metadata": {
        "id": "CuLlpoPjIi9s"
      },
      "source": [
        "# Base Horse - Modelo Treino"
      ]
    },
    {
      "cell_type": "markdown",
      "metadata": {
        "id": "5IFHYir7pRMw"
      },
      "source": [
        "##Importar base"
      ]
    },
    {
      "cell_type": "code",
      "metadata": {
        "id": "dBe7H8bHpPuu"
      },
      "source": [
        "# Importação dos pacotes\n",
        "import pandas as pd\n",
        "import numpy as np\n",
        "import random\n",
        "import matplotlib.pyplot as plt\n",
        "import seaborn as sns\n",
        "\n",
        "# Seed para reprodução de resultados\n",
        "seed = 1\n",
        "random.seed(seed)\n",
        "np.random.seed(seed)"
      ],
      "execution_count": 76,
      "outputs": []
    },
    {
      "cell_type": "code",
      "metadata": {
        "colab": {
          "base_uri": "https://localhost:8080/",
          "height": 217
        },
        "id": "kZpKA3IxqB-r",
        "outputId": "ac728e57-4ec0-409a-9bd8-311c632666fa"
      },
      "source": [
        "data = pd.read_csv('horse.csv')\n",
        "data.head()"
      ],
      "execution_count": 77,
      "outputs": [
        {
          "output_type": "execute_result",
          "data": {
            "text/html": [
              "<div>\n",
              "<style scoped>\n",
              "    .dataframe tbody tr th:only-of-type {\n",
              "        vertical-align: middle;\n",
              "    }\n",
              "\n",
              "    .dataframe tbody tr th {\n",
              "        vertical-align: top;\n",
              "    }\n",
              "\n",
              "    .dataframe thead th {\n",
              "        text-align: right;\n",
              "    }\n",
              "</style>\n",
              "<table border=\"1\" class=\"dataframe\">\n",
              "  <thead>\n",
              "    <tr style=\"text-align: right;\">\n",
              "      <th></th>\n",
              "      <th>surgery</th>\n",
              "      <th>age</th>\n",
              "      <th>hospital_number</th>\n",
              "      <th>rectal_temp</th>\n",
              "      <th>pulse</th>\n",
              "      <th>respiratory_rate</th>\n",
              "      <th>temp_of_extremities</th>\n",
              "      <th>peripheral_pulse</th>\n",
              "      <th>mucous_membrane</th>\n",
              "      <th>capillary_refill_time</th>\n",
              "      <th>pain</th>\n",
              "      <th>peristalsis</th>\n",
              "      <th>abdominal_distention</th>\n",
              "      <th>nasogastric_tube</th>\n",
              "      <th>nasogastric_reflux</th>\n",
              "      <th>nasogastric_reflux_ph</th>\n",
              "      <th>rectal_exam_feces</th>\n",
              "      <th>abdomen</th>\n",
              "      <th>packed_cell_volume</th>\n",
              "      <th>total_protein</th>\n",
              "      <th>abdomo_appearance</th>\n",
              "      <th>abdomo_protein</th>\n",
              "      <th>outcome</th>\n",
              "      <th>surgical_lesion</th>\n",
              "      <th>lesion_1</th>\n",
              "      <th>lesion_2</th>\n",
              "      <th>lesion_3</th>\n",
              "      <th>cp_data</th>\n",
              "    </tr>\n",
              "  </thead>\n",
              "  <tbody>\n",
              "    <tr>\n",
              "      <th>0</th>\n",
              "      <td>no</td>\n",
              "      <td>adult</td>\n",
              "      <td>530101</td>\n",
              "      <td>38.5</td>\n",
              "      <td>66.0</td>\n",
              "      <td>28.0</td>\n",
              "      <td>cool</td>\n",
              "      <td>reduced</td>\n",
              "      <td>NaN</td>\n",
              "      <td>more_3_sec</td>\n",
              "      <td>extreme_pain</td>\n",
              "      <td>absent</td>\n",
              "      <td>severe</td>\n",
              "      <td>NaN</td>\n",
              "      <td>NaN</td>\n",
              "      <td>NaN</td>\n",
              "      <td>decreased</td>\n",
              "      <td>distend_large</td>\n",
              "      <td>45.0</td>\n",
              "      <td>8.4</td>\n",
              "      <td>NaN</td>\n",
              "      <td>NaN</td>\n",
              "      <td>died</td>\n",
              "      <td>no</td>\n",
              "      <td>11300</td>\n",
              "      <td>0</td>\n",
              "      <td>0</td>\n",
              "      <td>no</td>\n",
              "    </tr>\n",
              "    <tr>\n",
              "      <th>1</th>\n",
              "      <td>yes</td>\n",
              "      <td>adult</td>\n",
              "      <td>534817</td>\n",
              "      <td>39.2</td>\n",
              "      <td>88.0</td>\n",
              "      <td>20.0</td>\n",
              "      <td>NaN</td>\n",
              "      <td>NaN</td>\n",
              "      <td>pale_cyanotic</td>\n",
              "      <td>less_3_sec</td>\n",
              "      <td>mild_pain</td>\n",
              "      <td>absent</td>\n",
              "      <td>slight</td>\n",
              "      <td>NaN</td>\n",
              "      <td>NaN</td>\n",
              "      <td>NaN</td>\n",
              "      <td>absent</td>\n",
              "      <td>other</td>\n",
              "      <td>50.0</td>\n",
              "      <td>85.0</td>\n",
              "      <td>cloudy</td>\n",
              "      <td>2.0</td>\n",
              "      <td>euthanized</td>\n",
              "      <td>no</td>\n",
              "      <td>2208</td>\n",
              "      <td>0</td>\n",
              "      <td>0</td>\n",
              "      <td>no</td>\n",
              "    </tr>\n",
              "    <tr>\n",
              "      <th>2</th>\n",
              "      <td>no</td>\n",
              "      <td>adult</td>\n",
              "      <td>530334</td>\n",
              "      <td>38.3</td>\n",
              "      <td>40.0</td>\n",
              "      <td>24.0</td>\n",
              "      <td>normal</td>\n",
              "      <td>normal</td>\n",
              "      <td>pale_pink</td>\n",
              "      <td>less_3_sec</td>\n",
              "      <td>mild_pain</td>\n",
              "      <td>hypomotile</td>\n",
              "      <td>none</td>\n",
              "      <td>NaN</td>\n",
              "      <td>NaN</td>\n",
              "      <td>NaN</td>\n",
              "      <td>normal</td>\n",
              "      <td>normal</td>\n",
              "      <td>33.0</td>\n",
              "      <td>6.7</td>\n",
              "      <td>NaN</td>\n",
              "      <td>NaN</td>\n",
              "      <td>lived</td>\n",
              "      <td>no</td>\n",
              "      <td>0</td>\n",
              "      <td>0</td>\n",
              "      <td>0</td>\n",
              "      <td>yes</td>\n",
              "    </tr>\n",
              "    <tr>\n",
              "      <th>3</th>\n",
              "      <td>yes</td>\n",
              "      <td>young</td>\n",
              "      <td>5290409</td>\n",
              "      <td>39.1</td>\n",
              "      <td>164.0</td>\n",
              "      <td>84.0</td>\n",
              "      <td>cold</td>\n",
              "      <td>normal</td>\n",
              "      <td>dark_cyanotic</td>\n",
              "      <td>more_3_sec</td>\n",
              "      <td>depressed</td>\n",
              "      <td>absent</td>\n",
              "      <td>severe</td>\n",
              "      <td>none</td>\n",
              "      <td>less_1_liter</td>\n",
              "      <td>5.0</td>\n",
              "      <td>decreased</td>\n",
              "      <td>NaN</td>\n",
              "      <td>48.0</td>\n",
              "      <td>7.2</td>\n",
              "      <td>serosanguious</td>\n",
              "      <td>5.3</td>\n",
              "      <td>died</td>\n",
              "      <td>yes</td>\n",
              "      <td>2208</td>\n",
              "      <td>0</td>\n",
              "      <td>0</td>\n",
              "      <td>yes</td>\n",
              "    </tr>\n",
              "    <tr>\n",
              "      <th>4</th>\n",
              "      <td>no</td>\n",
              "      <td>adult</td>\n",
              "      <td>530255</td>\n",
              "      <td>37.3</td>\n",
              "      <td>104.0</td>\n",
              "      <td>35.0</td>\n",
              "      <td>NaN</td>\n",
              "      <td>NaN</td>\n",
              "      <td>dark_cyanotic</td>\n",
              "      <td>more_3_sec</td>\n",
              "      <td>NaN</td>\n",
              "      <td>NaN</td>\n",
              "      <td>NaN</td>\n",
              "      <td>NaN</td>\n",
              "      <td>NaN</td>\n",
              "      <td>NaN</td>\n",
              "      <td>NaN</td>\n",
              "      <td>NaN</td>\n",
              "      <td>74.0</td>\n",
              "      <td>7.4</td>\n",
              "      <td>NaN</td>\n",
              "      <td>NaN</td>\n",
              "      <td>died</td>\n",
              "      <td>no</td>\n",
              "      <td>4300</td>\n",
              "      <td>0</td>\n",
              "      <td>0</td>\n",
              "      <td>no</td>\n",
              "    </tr>\n",
              "  </tbody>\n",
              "</table>\n",
              "</div>"
            ],
            "text/plain": [
              "  surgery    age  hospital_number  ...  lesion_2  lesion_3  cp_data\n",
              "0      no  adult           530101  ...         0         0       no\n",
              "1     yes  adult           534817  ...         0         0       no\n",
              "2      no  adult           530334  ...         0         0      yes\n",
              "3     yes  young          5290409  ...         0         0      yes\n",
              "4      no  adult           530255  ...         0         0       no\n",
              "\n",
              "[5 rows x 28 columns]"
            ]
          },
          "metadata": {
            "tags": []
          },
          "execution_count": 77
        }
      ]
    },
    {
      "cell_type": "markdown",
      "metadata": {
        "id": "WG1Vrd7CE5v-"
      },
      "source": [
        "## Análise exploratória"
      ]
    },
    {
      "cell_type": "code",
      "metadata": {
        "colab": {
          "base_uri": "https://localhost:8080/",
          "height": 294
        },
        "id": "i0HFfbxPCSlN",
        "outputId": "a1246c53-8b1d-4f86-cf54-a7f604945538"
      },
      "source": [
        "# Balanceamento\n",
        "sns.countplot(data=data, x='outcome')\n",
        "plt.title('Balanceamento')\n",
        "plt.show()"
      ],
      "execution_count": 78,
      "outputs": [
        {
          "output_type": "display_data",
          "data": {
            "image/png": "[encoded data removed]",
            "text/plain": [
              "<Figure size 432x288 with 1 Axes>"
            ]
          },
          "metadata": {
            "tags": []
          }
        }
      ]
    },
    {
      "cell_type": "code",
      "metadata": {
        "colab": {
          "base_uri": "https://localhost:8080/",
          "height": 804
        },
        "id": "1q5ZCwcMCSwM",
        "outputId": "3483e1d0-bbc0-4844-ecb2-b9ab3077879b"
      },
      "source": [
        "# packed_cell_volume\n",
        "plt.figure(figsize=(20,8))\n",
        "sns.countplot(data=data, x='outcome', hue='packed_cell_volume', palette='Paired')\n",
        "plt.show()"
      ],
      "execution_count": 79,
      "outputs": [
        {
          "output_type": "display_data",
          "data": {
            "image/png": "[encoded data removed]",
            "text/plain": [
              "<Figure size 1440x576 with 1 Axes>"
            ]
          },
          "metadata": {
            "tags": []
          }
        }
      ]
    },
    {
      "cell_type": "code",
      "metadata": {
        "colab": {
          "base_uri": "https://localhost:8080/",
          "height": 496
        },
        "id": "p3KYtQP28b8i",
        "outputId": "544fcb16-4e8b-42fb-e2d5-37946b254c90"
      },
      "source": [
        "plt.figure(figsize=(20,8))\n",
        "sns.countplot(data=data, x='surgery', hue='outcome', palette='Paired')\n",
        "plt.show()"
      ],
      "execution_count": 98,
      "outputs": [
        {
          "output_type": "display_data",
          "data": {
            "image/png": "[encoded data removed]",
            "text/plain": [
              "<Figure size 1440x576 with 1 Axes>"
            ]
          },
          "metadata": {
            "tags": []
          }
        }
      ]
    },
    {
      "cell_type": "code",
      "metadata": {
        "colab": {
          "base_uri": "https://localhost:8080/",
          "height": 570
        },
        "id": "aYub4x4m8cES",
        "outputId": "43ff204c-94ab-4cf3-8a86-fd3010648548"
      },
      "source": [
        "#Pulsos mais comuns encontrados\n",
        "sns.set_style('whitegrid')\n",
        "plt.figure(figsize=(10,8))\n",
        "sns.countplot(x='pulse', data=data,order = data['pulse'].value_counts().index[:3])\n",
        "plt.xlabel('Pulso',fontsize=25)\n",
        "plt.ylabel('Quantidade de cavalos', fontsize=25)\n",
        "plt.xticks(rotation=90)\n",
        "plt.xticks(fontsize=18)\n",
        "plt.yticks(fontsize=18)\n",
        "plt.title('Top 3 - Pulsos mais comuns ',fontsize=30)\n",
        "plt.show()"
      ],
      "execution_count": 100,
      "outputs": [
        {
          "output_type": "display_data",
          "data": {
            "image/png": "[encoded data removed]",
            "text/plain": [
              "<Figure size 720x576 with 1 Axes>"
            ]
          },
          "metadata": {
            "tags": []
          }
        }
      ]
    },
    {
      "cell_type": "markdown",
      "metadata": {
        "id": "ICHMU4_mpNxj"
      },
      "source": [
        "##Check e Retirada de registros e atributos faltantes"
      ]
    },
    {
      "cell_type": "code",
      "metadata": {
        "id": "MwQu6h97NC1H",
        "colab": {
          "base_uri": "https://localhost:8080/",
          "height": 287
        },
        "outputId": "733327dc-bef9-402b-e861-82e3e74a9dff"
      },
      "source": [
        "data.describe()"
      ],
      "execution_count": 16,
      "outputs": [
        {
          "output_type": "execute_result",
          "data": {
            "text/html": [
              "<div>\n",
              "<style scoped>\n",
              "    .dataframe tbody tr th:only-of-type {\n",
              "        vertical-align: middle;\n",
              "    }\n",
              "\n",
              "    .dataframe tbody tr th {\n",
              "        vertical-align: top;\n",
              "    }\n",
              "\n",
              "    .dataframe thead th {\n",
              "        text-align: right;\n",
              "    }\n",
              "</style>\n",
              "<table border=\"1\" class=\"dataframe\">\n",
              "  <thead>\n",
              "    <tr style=\"text-align: right;\">\n",
              "      <th></th>\n",
              "      <th>hospital_number</th>\n",
              "      <th>rectal_temp</th>\n",
              "      <th>pulse</th>\n",
              "      <th>respiratory_rate</th>\n",
              "      <th>nasogastric_reflux_ph</th>\n",
              "      <th>packed_cell_volume</th>\n",
              "      <th>total_protein</th>\n",
              "      <th>abdomo_protein</th>\n",
              "      <th>lesion_1</th>\n",
              "      <th>lesion_2</th>\n",
              "      <th>lesion_3</th>\n",
              "    </tr>\n",
              "  </thead>\n",
              "  <tbody>\n",
              "    <tr>\n",
              "      <th>count</th>\n",
              "      <td>2.990000e+02</td>\n",
              "      <td>239.000000</td>\n",
              "      <td>275.000000</td>\n",
              "      <td>241.000000</td>\n",
              "      <td>53.000000</td>\n",
              "      <td>270.000000</td>\n",
              "      <td>266.000000</td>\n",
              "      <td>101.000000</td>\n",
              "      <td>299.000000</td>\n",
              "      <td>299.000000</td>\n",
              "      <td>299.000000</td>\n",
              "    </tr>\n",
              "    <tr>\n",
              "      <th>mean</th>\n",
              "      <td>1.087733e+06</td>\n",
              "      <td>38.168619</td>\n",
              "      <td>72.000000</td>\n",
              "      <td>30.460581</td>\n",
              "      <td>4.707547</td>\n",
              "      <td>46.307407</td>\n",
              "      <td>24.274436</td>\n",
              "      <td>3.039604</td>\n",
              "      <td>3659.709030</td>\n",
              "      <td>90.528428</td>\n",
              "      <td>7.387960</td>\n",
              "    </tr>\n",
              "    <tr>\n",
              "      <th>std</th>\n",
              "      <td>1.532032e+06</td>\n",
              "      <td>0.733744</td>\n",
              "      <td>28.646219</td>\n",
              "      <td>17.666102</td>\n",
              "      <td>1.982311</td>\n",
              "      <td>10.436743</td>\n",
              "      <td>27.364194</td>\n",
              "      <td>1.967947</td>\n",
              "      <td>5408.472421</td>\n",
              "      <td>650.637139</td>\n",
              "      <td>127.749768</td>\n",
              "    </tr>\n",
              "    <tr>\n",
              "      <th>min</th>\n",
              "      <td>5.184760e+05</td>\n",
              "      <td>35.400000</td>\n",
              "      <td>30.000000</td>\n",
              "      <td>8.000000</td>\n",
              "      <td>1.000000</td>\n",
              "      <td>23.000000</td>\n",
              "      <td>3.300000</td>\n",
              "      <td>0.100000</td>\n",
              "      <td>0.000000</td>\n",
              "      <td>0.000000</td>\n",
              "      <td>0.000000</td>\n",
              "    </tr>\n",
              "    <tr>\n",
              "      <th>25%</th>\n",
              "      <td>5.289040e+05</td>\n",
              "      <td>37.800000</td>\n",
              "      <td>48.000000</td>\n",
              "      <td>18.000000</td>\n",
              "      <td>3.000000</td>\n",
              "      <td>38.000000</td>\n",
              "      <td>6.500000</td>\n",
              "      <td>2.000000</td>\n",
              "      <td>2111.500000</td>\n",
              "      <td>0.000000</td>\n",
              "      <td>0.000000</td>\n",
              "    </tr>\n",
              "    <tr>\n",
              "      <th>50%</th>\n",
              "      <td>5.303010e+05</td>\n",
              "      <td>38.200000</td>\n",
              "      <td>64.000000</td>\n",
              "      <td>25.000000</td>\n",
              "      <td>5.000000</td>\n",
              "      <td>45.000000</td>\n",
              "      <td>7.500000</td>\n",
              "      <td>2.300000</td>\n",
              "      <td>2322.000000</td>\n",
              "      <td>0.000000</td>\n",
              "      <td>0.000000</td>\n",
              "    </tr>\n",
              "    <tr>\n",
              "      <th>75%</th>\n",
              "      <td>5.347360e+05</td>\n",
              "      <td>38.500000</td>\n",
              "      <td>88.000000</td>\n",
              "      <td>36.000000</td>\n",
              "      <td>6.500000</td>\n",
              "      <td>52.000000</td>\n",
              "      <td>56.750000</td>\n",
              "      <td>3.900000</td>\n",
              "      <td>3209.000000</td>\n",
              "      <td>0.000000</td>\n",
              "      <td>0.000000</td>\n",
              "    </tr>\n",
              "    <tr>\n",
              "      <th>max</th>\n",
              "      <td>5.305629e+06</td>\n",
              "      <td>40.800000</td>\n",
              "      <td>184.000000</td>\n",
              "      <td>96.000000</td>\n",
              "      <td>7.500000</td>\n",
              "      <td>75.000000</td>\n",
              "      <td>89.000000</td>\n",
              "      <td>10.100000</td>\n",
              "      <td>41110.000000</td>\n",
              "      <td>7111.000000</td>\n",
              "      <td>2209.000000</td>\n",
              "    </tr>\n",
              "  </tbody>\n",
              "</table>\n",
              "</div>"
            ],
            "text/plain": [
              "       hospital_number  rectal_temp  ...     lesion_2     lesion_3\n",
              "count     2.990000e+02   239.000000  ...   299.000000   299.000000\n",
              "mean      1.087733e+06    38.168619  ...    90.528428     7.387960\n",
              "std       1.532032e+06     0.733744  ...   650.637139   127.749768\n",
              "min       5.184760e+05    35.400000  ...     0.000000     0.000000\n",
              "25%       5.289040e+05    37.800000  ...     0.000000     0.000000\n",
              "50%       5.303010e+05    38.200000  ...     0.000000     0.000000\n",
              "75%       5.347360e+05    38.500000  ...     0.000000     0.000000\n",
              "max       5.305629e+06    40.800000  ...  7111.000000  2209.000000\n",
              "\n",
              "[8 rows x 11 columns]"
            ]
          },
          "metadata": {
            "tags": []
          },
          "execution_count": 16
        }
      ]
    },
    {
      "cell_type": "code",
      "metadata": {
        "id": "Fd6BmjfKJCy7",
        "colab": {
          "base_uri": "https://localhost:8080/"
        },
        "outputId": "31ea27cd-00f7-4772-f820-bbda000396a9"
      },
      "source": [
        "data.shape"
      ],
      "execution_count": 17,
      "outputs": [
        {
          "output_type": "execute_result",
          "data": {
            "text/plain": [
              "(299, 28)"
            ]
          },
          "metadata": {
            "tags": []
          },
          "execution_count": 17
        }
      ]
    },
    {
      "cell_type": "code",
      "metadata": {
        "id": "1a4dBmyKJC_F",
        "colab": {
          "base_uri": "https://localhost:8080/"
        },
        "outputId": "62a0575d-b7f1-4272-da82-f54b3f35d9f1"
      },
      "source": [
        "data.isnull().sum().sort_values(ascending=False) / data.shape[0] * 100.00"
      ],
      "execution_count": 18,
      "outputs": [
        {
          "output_type": "execute_result",
          "data": {
            "text/plain": [
              "nasogastric_reflux_ph    82.274247\n",
              "abdomo_protein           66.220736\n",
              "abdomo_appearance        55.183946\n",
              "abdomen                  39.464883\n",
              "nasogastric_reflux       35.451505\n",
              "nasogastric_tube         34.782609\n",
              "rectal_exam_feces        34.113712\n",
              "peripheral_pulse         23.076923\n",
              "rectal_temp              20.066890\n",
              "respiratory_rate         19.397993\n",
              "temp_of_extremities      18.729097\n",
              "abdominal_distention     18.729097\n",
              "pain                     18.394649\n",
              "mucous_membrane          15.719064\n",
              "peristalsis              14.715719\n",
              "total_protein            11.036789\n",
              "capillary_refill_time    10.702341\n",
              "packed_cell_volume        9.698997\n",
              "pulse                     8.026756\n",
              "hospital_number           0.000000\n",
              "age                       0.000000\n",
              "cp_data                   0.000000\n",
              "lesion_3                  0.000000\n",
              "outcome                   0.000000\n",
              "surgical_lesion           0.000000\n",
              "lesion_1                  0.000000\n",
              "lesion_2                  0.000000\n",
              "surgery                   0.000000\n",
              "dtype: float64"
            ]
          },
          "metadata": {
            "tags": []
          },
          "execution_count": 18
        }
      ]
    },
    {
      "cell_type": "code",
      "metadata": {
        "id": "sEAg-7NroHdl"
      },
      "source": [
        "#eliminar colunas não relevantes para o projeto. \n",
        "data=data.drop(columns=['lesion_1', 'lesion_2', 'lesion_3','nasogastric_reflux_ph', 'abdomo_appearance','abdomo_protein', 'hospital_number'])\n",
        "#transformação de euthanized em died\n",
        "data['outcome']= data['outcome'].apply(lambda x: str(x).replace(\"euthanized\",\"died\"))"
      ],
      "execution_count": 19,
      "outputs": []
    },
    {
      "cell_type": "markdown",
      "metadata": {
        "id": "ynJesdC6_CZV"
      },
      "source": [
        "##Retirar NAN"
      ]
    },
    {
      "cell_type": "code",
      "metadata": {
        "id": "e3ygiAk1_JoL"
      },
      "source": [
        "#numerico\n",
        "numeric_values = data.select_dtypes(np.number).mean()\n",
        "\n",
        "#categorico\n",
        "categorical_values = data[data.columns.difference(numeric_values.index)].mode().iloc[0]\n",
        "\n",
        "#união\n",
        "data = data.fillna(numeric_values.append(categorical_values))"
      ],
      "execution_count": 20,
      "outputs": []
    },
    {
      "cell_type": "markdown",
      "metadata": {
        "id": "MxPaSHqop1aB"
      },
      "source": [
        "##Separar X e Y"
      ]
    },
    {
      "cell_type": "code",
      "metadata": {
        "id": "in5LATFRqnUz"
      },
      "source": [
        "X = data.loc[:,data.columns != 'outcome']  # Entrada\n",
        "y = data.outcome "
      ],
      "execution_count": 21,
      "outputs": []
    },
    {
      "cell_type": "code",
      "metadata": {
        "id": "fBZIee3gQPwm",
        "colab": {
          "base_uri": "https://localhost:8080/"
        },
        "outputId": "0cdc9a98-6b8f-4a86-93d4-b4980e6e9ae1"
      },
      "source": [
        "X.select_dtypes('object').columns"
      ],
      "execution_count": 22,
      "outputs": [
        {
          "output_type": "execute_result",
          "data": {
            "text/plain": [
              "Index(['surgery', 'age', 'temp_of_extremities', 'peripheral_pulse',\n",
              "       'mucous_membrane', 'capillary_refill_time', 'pain', 'peristalsis',\n",
              "       'abdominal_distention', 'nasogastric_tube', 'nasogastric_reflux',\n",
              "       'rectal_exam_feces', 'abdomen', 'surgical_lesion', 'cp_data'],\n",
              "      dtype='object')"
            ]
          },
          "metadata": {
            "tags": []
          },
          "execution_count": 22
        }
      ]
    },
    {
      "cell_type": "markdown",
      "metadata": {
        "id": "tjitFWvUrPAU"
      },
      "source": [
        "##Transformar dados"
      ]
    },
    {
      "cell_type": "code",
      "metadata": {
        "id": "Ct1YJL45rKvV",
        "colab": {
          "base_uri": "https://localhost:8080/"
        },
        "outputId": "bc852402-01da-41da-98f7-f8956aade8ce"
      },
      "source": [
        "#one hot encoder\n",
        "\n",
        "#Converte categorico para numerico - One Hot Encoding\n",
        "\n",
        "from sklearn.preprocessing import OneHotEncoder\n",
        "\n",
        "encoder = OneHotEncoder(drop='first')\n",
        "encoder.fit(X[X.select_dtypes('object').columns])\n",
        "onehotcategorical = pd.DataFrame(encoder.transform(X[X.select_dtypes('object').columns]).toarray())\n",
        "print(onehotcategorical)"
      ],
      "execution_count": 23,
      "outputs": [
        {
          "output_type": "stream",
          "text": [
            "      0    1    2    3    4    5    6   ...   31   32   33   34   35   36   37\n",
            "0    0.0  0.0  1.0  0.0  0.0  0.0  0.0  ...  0.0  0.0  0.0  0.0  0.0  0.0  0.0\n",
            "1    1.0  0.0  1.0  0.0  0.0  0.0  1.0  ...  0.0  0.0  0.0  0.0  1.0  0.0  0.0\n",
            "2    0.0  0.0  0.0  1.0  0.0  0.0  1.0  ...  1.0  0.0  0.0  1.0  0.0  0.0  1.0\n",
            "3    1.0  1.0  0.0  0.0  0.0  0.0  1.0  ...  0.0  0.0  0.0  0.0  0.0  1.0  1.0\n",
            "4    0.0  0.0  1.0  0.0  0.0  0.0  1.0  ...  0.0  0.0  0.0  0.0  0.0  0.0  0.0\n",
            "..   ...  ...  ...  ...  ...  ...  ...  ...  ...  ...  ...  ...  ...  ...  ...\n",
            "294  1.0  0.0  0.0  0.0  0.0  0.0  1.0  ...  0.0  0.0  0.0  0.0  0.0  0.0  0.0\n",
            "295  0.0  0.0  1.0  0.0  0.0  1.0  0.0  ...  0.0  1.0  0.0  0.0  0.0  1.0  1.0\n",
            "296  1.0  0.0  0.0  0.0  0.0  0.0  0.0  ...  0.0  0.0  0.0  0.0  0.0  1.0  0.0\n",
            "297  1.0  0.0  1.0  0.0  0.0  0.0  0.0  ...  0.0  1.0  0.0  0.0  0.0  1.0  1.0\n",
            "298  1.0  0.0  1.0  0.0  0.0  0.0  1.0  ...  0.0  0.0  0.0  1.0  0.0  0.0  0.0\n",
            "\n",
            "[299 rows x 38 columns]\n"
          ],
          "name": "stdout"
        }
      ]
    },
    {
      "cell_type": "code",
      "metadata": {
        "id": "YCnZ2cyeRmUl",
        "colab": {
          "base_uri": "https://localhost:8080/",
          "height": 217
        },
        "outputId": "12d79f3c-5270-4cfb-e85c-2091e621e59c"
      },
      "source": [
        "X = X.join(onehotcategorical)\n",
        "X.drop(X.select_dtypes('object').columns,inplace=True,axis=1)\n",
        "X.head()"
      ],
      "execution_count": 24,
      "outputs": [
        {
          "output_type": "execute_result",
          "data": {
            "text/html": [
              "<div>\n",
              "<style scoped>\n",
              "    .dataframe tbody tr th:only-of-type {\n",
              "        vertical-align: middle;\n",
              "    }\n",
              "\n",
              "    .dataframe tbody tr th {\n",
              "        vertical-align: top;\n",
              "    }\n",
              "\n",
              "    .dataframe thead th {\n",
              "        text-align: right;\n",
              "    }\n",
              "</style>\n",
              "<table border=\"1\" class=\"dataframe\">\n",
              "  <thead>\n",
              "    <tr style=\"text-align: right;\">\n",
              "      <th></th>\n",
              "      <th>rectal_temp</th>\n",
              "      <th>pulse</th>\n",
              "      <th>respiratory_rate</th>\n",
              "      <th>packed_cell_volume</th>\n",
              "      <th>total_protein</th>\n",
              "      <th>0</th>\n",
              "      <th>1</th>\n",
              "      <th>2</th>\n",
              "      <th>3</th>\n",
              "      <th>4</th>\n",
              "      <th>5</th>\n",
              "      <th>6</th>\n",
              "      <th>7</th>\n",
              "      <th>8</th>\n",
              "      <th>9</th>\n",
              "      <th>10</th>\n",
              "      <th>11</th>\n",
              "      <th>12</th>\n",
              "      <th>13</th>\n",
              "      <th>14</th>\n",
              "      <th>15</th>\n",
              "      <th>16</th>\n",
              "      <th>17</th>\n",
              "      <th>18</th>\n",
              "      <th>19</th>\n",
              "      <th>20</th>\n",
              "      <th>21</th>\n",
              "      <th>22</th>\n",
              "      <th>23</th>\n",
              "      <th>24</th>\n",
              "      <th>25</th>\n",
              "      <th>26</th>\n",
              "      <th>27</th>\n",
              "      <th>28</th>\n",
              "      <th>29</th>\n",
              "      <th>30</th>\n",
              "      <th>31</th>\n",
              "      <th>32</th>\n",
              "      <th>33</th>\n",
              "      <th>34</th>\n",
              "      <th>35</th>\n",
              "      <th>36</th>\n",
              "      <th>37</th>\n",
              "    </tr>\n",
              "  </thead>\n",
              "  <tbody>\n",
              "    <tr>\n",
              "      <th>0</th>\n",
              "      <td>38.5</td>\n",
              "      <td>66.0</td>\n",
              "      <td>28.0</td>\n",
              "      <td>45.0</td>\n",
              "      <td>8.4</td>\n",
              "      <td>0.0</td>\n",
              "      <td>0.0</td>\n",
              "      <td>1.0</td>\n",
              "      <td>0.0</td>\n",
              "      <td>0.0</td>\n",
              "      <td>0.0</td>\n",
              "      <td>0.0</td>\n",
              "      <td>1.0</td>\n",
              "      <td>0.0</td>\n",
              "      <td>0.0</td>\n",
              "      <td>1.0</td>\n",
              "      <td>0.0</td>\n",
              "      <td>0.0</td>\n",
              "      <td>0.0</td>\n",
              "      <td>1.0</td>\n",
              "      <td>0.0</td>\n",
              "      <td>1.0</td>\n",
              "      <td>0.0</td>\n",
              "      <td>0.0</td>\n",
              "      <td>0.0</td>\n",
              "      <td>0.0</td>\n",
              "      <td>0.0</td>\n",
              "      <td>0.0</td>\n",
              "      <td>1.0</td>\n",
              "      <td>0.0</td>\n",
              "      <td>0.0</td>\n",
              "      <td>1.0</td>\n",
              "      <td>0.0</td>\n",
              "      <td>1.0</td>\n",
              "      <td>1.0</td>\n",
              "      <td>0.0</td>\n",
              "      <td>0.0</td>\n",
              "      <td>0.0</td>\n",
              "      <td>0.0</td>\n",
              "      <td>0.0</td>\n",
              "      <td>0.0</td>\n",
              "      <td>0.0</td>\n",
              "      <td>0.0</td>\n",
              "    </tr>\n",
              "    <tr>\n",
              "      <th>1</th>\n",
              "      <td>39.2</td>\n",
              "      <td>88.0</td>\n",
              "      <td>20.0</td>\n",
              "      <td>50.0</td>\n",
              "      <td>85.0</td>\n",
              "      <td>1.0</td>\n",
              "      <td>0.0</td>\n",
              "      <td>1.0</td>\n",
              "      <td>0.0</td>\n",
              "      <td>0.0</td>\n",
              "      <td>0.0</td>\n",
              "      <td>1.0</td>\n",
              "      <td>0.0</td>\n",
              "      <td>0.0</td>\n",
              "      <td>0.0</td>\n",
              "      <td>0.0</td>\n",
              "      <td>1.0</td>\n",
              "      <td>0.0</td>\n",
              "      <td>1.0</td>\n",
              "      <td>0.0</td>\n",
              "      <td>0.0</td>\n",
              "      <td>0.0</td>\n",
              "      <td>1.0</td>\n",
              "      <td>0.0</td>\n",
              "      <td>0.0</td>\n",
              "      <td>0.0</td>\n",
              "      <td>0.0</td>\n",
              "      <td>0.0</td>\n",
              "      <td>0.0</td>\n",
              "      <td>1.0</td>\n",
              "      <td>0.0</td>\n",
              "      <td>1.0</td>\n",
              "      <td>0.0</td>\n",
              "      <td>1.0</td>\n",
              "      <td>0.0</td>\n",
              "      <td>0.0</td>\n",
              "      <td>0.0</td>\n",
              "      <td>0.0</td>\n",
              "      <td>0.0</td>\n",
              "      <td>0.0</td>\n",
              "      <td>1.0</td>\n",
              "      <td>0.0</td>\n",
              "      <td>0.0</td>\n",
              "    </tr>\n",
              "    <tr>\n",
              "      <th>2</th>\n",
              "      <td>38.3</td>\n",
              "      <td>40.0</td>\n",
              "      <td>24.0</td>\n",
              "      <td>33.0</td>\n",
              "      <td>6.7</td>\n",
              "      <td>0.0</td>\n",
              "      <td>0.0</td>\n",
              "      <td>0.0</td>\n",
              "      <td>1.0</td>\n",
              "      <td>0.0</td>\n",
              "      <td>0.0</td>\n",
              "      <td>1.0</td>\n",
              "      <td>0.0</td>\n",
              "      <td>0.0</td>\n",
              "      <td>0.0</td>\n",
              "      <td>0.0</td>\n",
              "      <td>0.0</td>\n",
              "      <td>1.0</td>\n",
              "      <td>1.0</td>\n",
              "      <td>0.0</td>\n",
              "      <td>0.0</td>\n",
              "      <td>0.0</td>\n",
              "      <td>1.0</td>\n",
              "      <td>0.0</td>\n",
              "      <td>0.0</td>\n",
              "      <td>1.0</td>\n",
              "      <td>0.0</td>\n",
              "      <td>1.0</td>\n",
              "      <td>0.0</td>\n",
              "      <td>0.0</td>\n",
              "      <td>0.0</td>\n",
              "      <td>1.0</td>\n",
              "      <td>0.0</td>\n",
              "      <td>1.0</td>\n",
              "      <td>0.0</td>\n",
              "      <td>0.0</td>\n",
              "      <td>1.0</td>\n",
              "      <td>0.0</td>\n",
              "      <td>0.0</td>\n",
              "      <td>1.0</td>\n",
              "      <td>0.0</td>\n",
              "      <td>0.0</td>\n",
              "      <td>1.0</td>\n",
              "    </tr>\n",
              "    <tr>\n",
              "      <th>3</th>\n",
              "      <td>39.1</td>\n",
              "      <td>164.0</td>\n",
              "      <td>84.0</td>\n",
              "      <td>48.0</td>\n",
              "      <td>7.2</td>\n",
              "      <td>1.0</td>\n",
              "      <td>1.0</td>\n",
              "      <td>0.0</td>\n",
              "      <td>0.0</td>\n",
              "      <td>0.0</td>\n",
              "      <td>0.0</td>\n",
              "      <td>1.0</td>\n",
              "      <td>0.0</td>\n",
              "      <td>0.0</td>\n",
              "      <td>1.0</td>\n",
              "      <td>0.0</td>\n",
              "      <td>0.0</td>\n",
              "      <td>0.0</td>\n",
              "      <td>0.0</td>\n",
              "      <td>1.0</td>\n",
              "      <td>1.0</td>\n",
              "      <td>0.0</td>\n",
              "      <td>0.0</td>\n",
              "      <td>0.0</td>\n",
              "      <td>0.0</td>\n",
              "      <td>0.0</td>\n",
              "      <td>0.0</td>\n",
              "      <td>0.0</td>\n",
              "      <td>1.0</td>\n",
              "      <td>0.0</td>\n",
              "      <td>0.0</td>\n",
              "      <td>0.0</td>\n",
              "      <td>0.0</td>\n",
              "      <td>0.0</td>\n",
              "      <td>1.0</td>\n",
              "      <td>0.0</td>\n",
              "      <td>0.0</td>\n",
              "      <td>0.0</td>\n",
              "      <td>0.0</td>\n",
              "      <td>0.0</td>\n",
              "      <td>0.0</td>\n",
              "      <td>1.0</td>\n",
              "      <td>1.0</td>\n",
              "    </tr>\n",
              "    <tr>\n",
              "      <th>4</th>\n",
              "      <td>37.3</td>\n",
              "      <td>104.0</td>\n",
              "      <td>35.0</td>\n",
              "      <td>74.0</td>\n",
              "      <td>7.4</td>\n",
              "      <td>0.0</td>\n",
              "      <td>0.0</td>\n",
              "      <td>1.0</td>\n",
              "      <td>0.0</td>\n",
              "      <td>0.0</td>\n",
              "      <td>0.0</td>\n",
              "      <td>1.0</td>\n",
              "      <td>0.0</td>\n",
              "      <td>0.0</td>\n",
              "      <td>1.0</td>\n",
              "      <td>0.0</td>\n",
              "      <td>0.0</td>\n",
              "      <td>0.0</td>\n",
              "      <td>0.0</td>\n",
              "      <td>1.0</td>\n",
              "      <td>0.0</td>\n",
              "      <td>0.0</td>\n",
              "      <td>1.0</td>\n",
              "      <td>0.0</td>\n",
              "      <td>0.0</td>\n",
              "      <td>1.0</td>\n",
              "      <td>0.0</td>\n",
              "      <td>1.0</td>\n",
              "      <td>0.0</td>\n",
              "      <td>0.0</td>\n",
              "      <td>0.0</td>\n",
              "      <td>1.0</td>\n",
              "      <td>0.0</td>\n",
              "      <td>1.0</td>\n",
              "      <td>0.0</td>\n",
              "      <td>0.0</td>\n",
              "      <td>0.0</td>\n",
              "      <td>0.0</td>\n",
              "      <td>0.0</td>\n",
              "      <td>0.0</td>\n",
              "      <td>0.0</td>\n",
              "      <td>0.0</td>\n",
              "      <td>0.0</td>\n",
              "    </tr>\n",
              "  </tbody>\n",
              "</table>\n",
              "</div>"
            ],
            "text/plain": [
              "   rectal_temp  pulse  respiratory_rate  packed_cell_volume  ...   34   35   36   37\n",
              "0         38.5   66.0              28.0                45.0  ...  0.0  0.0  0.0  0.0\n",
              "1         39.2   88.0              20.0                50.0  ...  0.0  1.0  0.0  0.0\n",
              "2         38.3   40.0              24.0                33.0  ...  1.0  0.0  0.0  1.0\n",
              "3         39.1  164.0              84.0                48.0  ...  0.0  0.0  1.0  1.0\n",
              "4         37.3  104.0              35.0                74.0  ...  0.0  0.0  0.0  0.0\n",
              "\n",
              "[5 rows x 43 columns]"
            ]
          },
          "metadata": {
            "tags": []
          },
          "execution_count": 24
        }
      ]
    },
    {
      "cell_type": "code",
      "metadata": {
        "id": "sdkhEyg3Tr1p",
        "colab": {
          "base_uri": "https://localhost:8080/"
        },
        "outputId": "1e52638e-bc1d-40b7-ec9e-8aef7264717d"
      },
      "source": [
        "# converting to binary data\n",
        "\n",
        "y = (y == 'died').astype(int)\n",
        "print(y)"
      ],
      "execution_count": 25,
      "outputs": [
        {
          "output_type": "stream",
          "text": [
            "0      1\n",
            "1      1\n",
            "2      0\n",
            "3      1\n",
            "4      1\n",
            "      ..\n",
            "294    1\n",
            "295    1\n",
            "296    1\n",
            "297    0\n",
            "298    1\n",
            "Name: outcome, Length: 299, dtype: int64\n"
          ],
          "name": "stdout"
        }
      ]
    },
    {
      "cell_type": "code",
      "metadata": {
        "id": "irGu1F9xwAZO"
      },
      "source": [
        "X_train = X\n",
        "y_train = y"
      ],
      "execution_count": 26,
      "outputs": []
    },
    {
      "cell_type": "markdown",
      "metadata": {
        "id": "zjrpXjEBplv7"
      },
      "source": [
        "#Base Horse - Modelo de Teste"
      ]
    },
    {
      "cell_type": "code",
      "metadata": {
        "id": "tY41hzXlprr9"
      },
      "source": [
        "# Carregar base de teste\n",
        "test = pd.read_csv('horseTest.csv')\n",
        "#eliminar colunas não relevantes para o projeto. \n",
        "test=test.drop(columns=['lesion_1', 'lesion_2', 'lesion_3','nasogastric_reflux_ph', 'abdomo_appearance','abdomo_protein', 'hospital_number'])\n",
        "#transformação de euthanized em died\n",
        "test['outcome']= test['outcome'].apply(lambda x: str(x).replace(\"euthanized\",\"died\"))\n",
        "\n",
        "\n"
      ],
      "execution_count": 27,
      "outputs": []
    },
    {
      "cell_type": "markdown",
      "metadata": {
        "id": "MrEUgh6g_zkv"
      },
      "source": [
        "##Retirar NAN"
      ]
    },
    {
      "cell_type": "code",
      "metadata": {
        "id": "w_5MwrTl_z7v"
      },
      "source": [
        "#união\n",
        "test = test.fillna(numeric_values.append(categorical_values))"
      ],
      "execution_count": 28,
      "outputs": []
    },
    {
      "cell_type": "markdown",
      "metadata": {
        "id": "yNs2ok5W6ow_"
      },
      "source": [
        "##separar X e Y teste"
      ]
    },
    {
      "cell_type": "code",
      "metadata": {
        "id": "waLukQxS3MbS"
      },
      "source": [
        "#separar input e output\n",
        "\n",
        "y_test = test['outcome']\n",
        "X_test = test.loc[:,data.columns != 'outcome']"
      ],
      "execution_count": 29,
      "outputs": []
    },
    {
      "cell_type": "markdown",
      "metadata": {
        "id": "FU04Vz2_6vi0"
      },
      "source": [
        "##Transformar os dados categoricos "
      ]
    },
    {
      "cell_type": "code",
      "metadata": {
        "id": "Gvbyd5dZ6SNo",
        "colab": {
          "base_uri": "https://localhost:8080/",
          "height": 217
        },
        "outputId": "b5ca06fa-122f-4e1c-e7d5-be565bdb05d8"
      },
      "source": [
        "#one hot encoder\n",
        "\n",
        "#Converte categorico para numerico - One Hot Encoding\n",
        "\n",
        "onehottest = pd.DataFrame(encoder.transform(X_test[X_test.select_dtypes('object').columns]).toarray())\n",
        "X_test = X_test.join(onehottest)\n",
        "X_test.drop(X_test.select_dtypes('object').columns,inplace=True,axis=1)\n",
        "X_test.head()"
      ],
      "execution_count": 30,
      "outputs": [
        {
          "output_type": "execute_result",
          "data": {
            "text/html": [
              "<div>\n",
              "<style scoped>\n",
              "    .dataframe tbody tr th:only-of-type {\n",
              "        vertical-align: middle;\n",
              "    }\n",
              "\n",
              "    .dataframe tbody tr th {\n",
              "        vertical-align: top;\n",
              "    }\n",
              "\n",
              "    .dataframe thead th {\n",
              "        text-align: right;\n",
              "    }\n",
              "</style>\n",
              "<table border=\"1\" class=\"dataframe\">\n",
              "  <thead>\n",
              "    <tr style=\"text-align: right;\">\n",
              "      <th></th>\n",
              "      <th>rectal_temp</th>\n",
              "      <th>pulse</th>\n",
              "      <th>respiratory_rate</th>\n",
              "      <th>packed_cell_volume</th>\n",
              "      <th>total_protein</th>\n",
              "      <th>0</th>\n",
              "      <th>1</th>\n",
              "      <th>2</th>\n",
              "      <th>3</th>\n",
              "      <th>4</th>\n",
              "      <th>5</th>\n",
              "      <th>6</th>\n",
              "      <th>7</th>\n",
              "      <th>8</th>\n",
              "      <th>9</th>\n",
              "      <th>10</th>\n",
              "      <th>11</th>\n",
              "      <th>12</th>\n",
              "      <th>13</th>\n",
              "      <th>14</th>\n",
              "      <th>15</th>\n",
              "      <th>16</th>\n",
              "      <th>17</th>\n",
              "      <th>18</th>\n",
              "      <th>19</th>\n",
              "      <th>20</th>\n",
              "      <th>21</th>\n",
              "      <th>22</th>\n",
              "      <th>23</th>\n",
              "      <th>24</th>\n",
              "      <th>25</th>\n",
              "      <th>26</th>\n",
              "      <th>27</th>\n",
              "      <th>28</th>\n",
              "      <th>29</th>\n",
              "      <th>30</th>\n",
              "      <th>31</th>\n",
              "      <th>32</th>\n",
              "      <th>33</th>\n",
              "      <th>34</th>\n",
              "      <th>35</th>\n",
              "      <th>36</th>\n",
              "      <th>37</th>\n",
              "    </tr>\n",
              "  </thead>\n",
              "  <tbody>\n",
              "    <tr>\n",
              "      <th>0</th>\n",
              "      <td>37.3</td>\n",
              "      <td>104.0</td>\n",
              "      <td>35.0</td>\n",
              "      <td>74.000000</td>\n",
              "      <td>7.4</td>\n",
              "      <td>0.0</td>\n",
              "      <td>0.0</td>\n",
              "      <td>1.0</td>\n",
              "      <td>0.0</td>\n",
              "      <td>0.0</td>\n",
              "      <td>0.0</td>\n",
              "      <td>1.0</td>\n",
              "      <td>0.0</td>\n",
              "      <td>0.0</td>\n",
              "      <td>1.0</td>\n",
              "      <td>0.0</td>\n",
              "      <td>0.0</td>\n",
              "      <td>0.0</td>\n",
              "      <td>0.0</td>\n",
              "      <td>1.0</td>\n",
              "      <td>0.0</td>\n",
              "      <td>0.0</td>\n",
              "      <td>1.0</td>\n",
              "      <td>0.0</td>\n",
              "      <td>0.0</td>\n",
              "      <td>1.0</td>\n",
              "      <td>0.0</td>\n",
              "      <td>1.0</td>\n",
              "      <td>0.0</td>\n",
              "      <td>0.0</td>\n",
              "      <td>0.0</td>\n",
              "      <td>1.0</td>\n",
              "      <td>0.0</td>\n",
              "      <td>1.0</td>\n",
              "      <td>0.0</td>\n",
              "      <td>0.0</td>\n",
              "      <td>0.0</td>\n",
              "      <td>0.0</td>\n",
              "      <td>0.0</td>\n",
              "      <td>0.0</td>\n",
              "      <td>0.0</td>\n",
              "      <td>0.0</td>\n",
              "      <td>0.0</td>\n",
              "    </tr>\n",
              "    <tr>\n",
              "      <th>1</th>\n",
              "      <td>39.1</td>\n",
              "      <td>72.0</td>\n",
              "      <td>52.0</td>\n",
              "      <td>50.000000</td>\n",
              "      <td>7.8</td>\n",
              "      <td>0.0</td>\n",
              "      <td>0.0</td>\n",
              "      <td>0.0</td>\n",
              "      <td>0.0</td>\n",
              "      <td>1.0</td>\n",
              "      <td>0.0</td>\n",
              "      <td>1.0</td>\n",
              "      <td>0.0</td>\n",
              "      <td>0.0</td>\n",
              "      <td>0.0</td>\n",
              "      <td>0.0</td>\n",
              "      <td>0.0</td>\n",
              "      <td>0.0</td>\n",
              "      <td>1.0</td>\n",
              "      <td>0.0</td>\n",
              "      <td>1.0</td>\n",
              "      <td>0.0</td>\n",
              "      <td>0.0</td>\n",
              "      <td>0.0</td>\n",
              "      <td>1.0</td>\n",
              "      <td>0.0</td>\n",
              "      <td>0.0</td>\n",
              "      <td>0.0</td>\n",
              "      <td>0.0</td>\n",
              "      <td>1.0</td>\n",
              "      <td>0.0</td>\n",
              "      <td>0.0</td>\n",
              "      <td>0.0</td>\n",
              "      <td>1.0</td>\n",
              "      <td>0.0</td>\n",
              "      <td>0.0</td>\n",
              "      <td>0.0</td>\n",
              "      <td>1.0</td>\n",
              "      <td>0.0</td>\n",
              "      <td>0.0</td>\n",
              "      <td>0.0</td>\n",
              "      <td>1.0</td>\n",
              "      <td>0.0</td>\n",
              "    </tr>\n",
              "    <tr>\n",
              "      <th>2</th>\n",
              "      <td>37.2</td>\n",
              "      <td>42.0</td>\n",
              "      <td>12.0</td>\n",
              "      <td>46.307407</td>\n",
              "      <td>7.0</td>\n",
              "      <td>1.0</td>\n",
              "      <td>0.0</td>\n",
              "      <td>0.0</td>\n",
              "      <td>0.0</td>\n",
              "      <td>1.0</td>\n",
              "      <td>0.0</td>\n",
              "      <td>1.0</td>\n",
              "      <td>0.0</td>\n",
              "      <td>0.0</td>\n",
              "      <td>0.0</td>\n",
              "      <td>1.0</td>\n",
              "      <td>0.0</td>\n",
              "      <td>0.0</td>\n",
              "      <td>1.0</td>\n",
              "      <td>0.0</td>\n",
              "      <td>0.0</td>\n",
              "      <td>0.0</td>\n",
              "      <td>1.0</td>\n",
              "      <td>0.0</td>\n",
              "      <td>0.0</td>\n",
              "      <td>1.0</td>\n",
              "      <td>0.0</td>\n",
              "      <td>0.0</td>\n",
              "      <td>0.0</td>\n",
              "      <td>0.0</td>\n",
              "      <td>1.0</td>\n",
              "      <td>0.0</td>\n",
              "      <td>0.0</td>\n",
              "      <td>1.0</td>\n",
              "      <td>0.0</td>\n",
              "      <td>0.0</td>\n",
              "      <td>0.0</td>\n",
              "      <td>0.0</td>\n",
              "      <td>0.0</td>\n",
              "      <td>0.0</td>\n",
              "      <td>0.0</td>\n",
              "      <td>0.0</td>\n",
              "      <td>0.0</td>\n",
              "    </tr>\n",
              "    <tr>\n",
              "      <th>3</th>\n",
              "      <td>38.0</td>\n",
              "      <td>92.0</td>\n",
              "      <td>28.0</td>\n",
              "      <td>37.000000</td>\n",
              "      <td>6.1</td>\n",
              "      <td>0.0</td>\n",
              "      <td>1.0</td>\n",
              "      <td>0.0</td>\n",
              "      <td>1.0</td>\n",
              "      <td>0.0</td>\n",
              "      <td>0.0</td>\n",
              "      <td>1.0</td>\n",
              "      <td>0.0</td>\n",
              "      <td>0.0</td>\n",
              "      <td>0.0</td>\n",
              "      <td>0.0</td>\n",
              "      <td>0.0</td>\n",
              "      <td>0.0</td>\n",
              "      <td>1.0</td>\n",
              "      <td>0.0</td>\n",
              "      <td>0.0</td>\n",
              "      <td>0.0</td>\n",
              "      <td>0.0</td>\n",
              "      <td>0.0</td>\n",
              "      <td>0.0</td>\n",
              "      <td>1.0</td>\n",
              "      <td>0.0</td>\n",
              "      <td>0.0</td>\n",
              "      <td>0.0</td>\n",
              "      <td>1.0</td>\n",
              "      <td>1.0</td>\n",
              "      <td>0.0</td>\n",
              "      <td>0.0</td>\n",
              "      <td>1.0</td>\n",
              "      <td>0.0</td>\n",
              "      <td>0.0</td>\n",
              "      <td>1.0</td>\n",
              "      <td>0.0</td>\n",
              "      <td>0.0</td>\n",
              "      <td>1.0</td>\n",
              "      <td>0.0</td>\n",
              "      <td>0.0</td>\n",
              "      <td>1.0</td>\n",
              "    </tr>\n",
              "    <tr>\n",
              "      <th>4</th>\n",
              "      <td>37.6</td>\n",
              "      <td>64.0</td>\n",
              "      <td>21.0</td>\n",
              "      <td>40.000000</td>\n",
              "      <td>7.0</td>\n",
              "      <td>1.0</td>\n",
              "      <td>0.0</td>\n",
              "      <td>0.0</td>\n",
              "      <td>1.0</td>\n",
              "      <td>0.0</td>\n",
              "      <td>0.0</td>\n",
              "      <td>1.0</td>\n",
              "      <td>0.0</td>\n",
              "      <td>0.0</td>\n",
              "      <td>0.0</td>\n",
              "      <td>0.0</td>\n",
              "      <td>0.0</td>\n",
              "      <td>0.0</td>\n",
              "      <td>1.0</td>\n",
              "      <td>0.0</td>\n",
              "      <td>1.0</td>\n",
              "      <td>0.0</td>\n",
              "      <td>0.0</td>\n",
              "      <td>0.0</td>\n",
              "      <td>0.0</td>\n",
              "      <td>1.0</td>\n",
              "      <td>0.0</td>\n",
              "      <td>1.0</td>\n",
              "      <td>0.0</td>\n",
              "      <td>0.0</td>\n",
              "      <td>0.0</td>\n",
              "      <td>0.0</td>\n",
              "      <td>0.0</td>\n",
              "      <td>1.0</td>\n",
              "      <td>0.0</td>\n",
              "      <td>1.0</td>\n",
              "      <td>0.0</td>\n",
              "      <td>0.0</td>\n",
              "      <td>0.0</td>\n",
              "      <td>0.0</td>\n",
              "      <td>0.0</td>\n",
              "      <td>1.0</td>\n",
              "      <td>1.0</td>\n",
              "    </tr>\n",
              "  </tbody>\n",
              "</table>\n",
              "</div>"
            ],
            "text/plain": [
              "   rectal_temp  pulse  respiratory_rate  packed_cell_volume  ...   34   35   36   37\n",
              "0         37.3  104.0              35.0           74.000000  ...  0.0  0.0  0.0  0.0\n",
              "1         39.1   72.0              52.0           50.000000  ...  0.0  0.0  1.0  0.0\n",
              "2         37.2   42.0              12.0           46.307407  ...  0.0  0.0  0.0  0.0\n",
              "3         38.0   92.0              28.0           37.000000  ...  1.0  0.0  0.0  1.0\n",
              "4         37.6   64.0              21.0           40.000000  ...  0.0  0.0  1.0  1.0\n",
              "\n",
              "[5 rows x 43 columns]"
            ]
          },
          "metadata": {
            "tags": []
          },
          "execution_count": 30
        }
      ]
    },
    {
      "cell_type": "code",
      "metadata": {
        "id": "N0xXTugmW5uu",
        "colab": {
          "base_uri": "https://localhost:8080/"
        },
        "outputId": "f9ca1bc4-f14a-4c8d-9b9b-3359ee313b9f"
      },
      "source": [
        "X_train.shape,X_test.shape"
      ],
      "execution_count": 31,
      "outputs": [
        {
          "output_type": "execute_result",
          "data": {
            "text/plain": [
              "((299, 43), (89, 43))"
            ]
          },
          "metadata": {
            "tags": []
          },
          "execution_count": 31
        }
      ]
    },
    {
      "cell_type": "code",
      "metadata": {
        "id": "mAe3WGIP6STS",
        "colab": {
          "base_uri": "https://localhost:8080/"
        },
        "outputId": "05565662-bf44-49c9-fa69-8d35bbc2c7e1"
      },
      "source": [
        "# converting to binary data\n",
        "\n",
        "y_test = (y_test == 'died').astype(int)\n",
        "print(y_test)"
      ],
      "execution_count": 32,
      "outputs": [
        {
          "output_type": "stream",
          "text": [
            "0     1\n",
            "1     0\n",
            "2     0\n",
            "3     1\n",
            "4     0\n",
            "     ..\n",
            "84    0\n",
            "85    0\n",
            "86    1\n",
            "87    1\n",
            "88    0\n",
            "Name: outcome, Length: 89, dtype: int64\n"
          ],
          "name": "stdout"
        }
      ]
    },
    {
      "cell_type": "code",
      "metadata": {
        "id": "FAKNJ5KK6QnN"
      },
      "source": [
        ""
      ],
      "execution_count": 32,
      "outputs": []
    },
    {
      "cell_type": "code",
      "metadata": {
        "id": "4hIu8IAi6Q2v",
        "colab": {
          "base_uri": "https://localhost:8080/"
        },
        "outputId": "1ed15a2a-fcf4-409c-a6e1-31dda096321d"
      },
      "source": [
        "y_test.value_counts()"
      ],
      "execution_count": 33,
      "outputs": [
        {
          "output_type": "execute_result",
          "data": {
            "text/plain": [
              "0    53\n",
              "1    36\n",
              "Name: outcome, dtype: int64"
            ]
          },
          "metadata": {
            "tags": []
          },
          "execution_count": 33
        }
      ]
    },
    {
      "cell_type": "markdown",
      "metadata": {
        "id": "RAnkwk4Z9SJs"
      },
      "source": [
        "#Aplicar modelo"
      ]
    },
    {
      "cell_type": "markdown",
      "metadata": {
        "id": "C_bfMITnAf77"
      },
      "source": [
        "##Modelo AD"
      ]
    },
    {
      "cell_type": "code",
      "metadata": {
        "id": "4eokDmX-6AA2"
      },
      "source": [
        "# treinar modelo\n",
        "from sklearn.tree import DecisionTreeClassifier\n",
        "\n",
        "def train(X_train, y_train, seed):\n",
        "  model = DecisionTreeClassifier(min_samples_leaf=5, random_state=seed) # tente mudar parâmetro para evitar overfitting\n",
        "  model.fit(X_train, y_train);\n",
        "  return model\n",
        "\n",
        "model = train(X_train, y_train, seed)"
      ],
      "execution_count": 34,
      "outputs": []
    },
    {
      "cell_type": "code",
      "metadata": {
        "id": "TGiBbXJpArxG",
        "colab": {
          "base_uri": "https://localhost:8080/",
          "height": 574
        },
        "outputId": "02510df8-fd99-4141-9134-a9134a2a155b"
      },
      "source": [
        "# Visualização gráfica da árvore de decisão\n",
        "from sklearn import tree\n",
        "fig, ax = plt.subplots(figsize=(20, 10)) # Definir tamanho da imagem a ser gerada\n",
        "tree.plot_tree(model, class_names=['Died', 'Lived'], filled=True, rounded=True); # plota a árvore"
      ],
      "execution_count": 35,
      "outputs": [
        {
          "output_type": "display_data",
          "data": {
            "image/png": "[encoded data removed]",
            "text/plain": [
              "<Figure size 1440x720 with 1 Axes>"
            ]
          },
          "metadata": {
            "tags": [],
            "needs_background": "light"
          }
        }
      ]
    },
    {
      "cell_type": "code",
      "metadata": {
        "id": "tm4srlaHAufg",
        "colab": {
          "base_uri": "https://localhost:8080/",
          "height": 347
        },
        "outputId": "b41cd7b2-f81e-4014-df7c-5b09fc962e3c"
      },
      "source": [
        "def predict_and_evaluate(X_test, y_test):\n",
        "\n",
        "  y_pred = model.predict(X_test) #inferência do teste\n",
        "\n",
        "  # Acurácia\n",
        "  from sklearn.metrics import accuracy_score\n",
        "  accuracy = accuracy_score(y_test, y_pred)\n",
        "  print('Acurácia: ', accuracy)\n",
        "\n",
        "  # Kappa\n",
        "  from sklearn.metrics import cohen_kappa_score\n",
        "  kappa = cohen_kappa_score(y_test, y_pred)\n",
        "  print('Kappa: ', kappa)\n",
        "\n",
        "  # F1\n",
        "  from sklearn.metrics import f1_score\n",
        "  f1 = f1_score(y_test, y_pred)\n",
        "  print('F1: ', f1)\n",
        "\n",
        "  # Matriz de confusão\n",
        "  from sklearn.metrics import confusion_matrix\n",
        "  confMatrix = confusion_matrix(y_pred, y_test)\n",
        "\n",
        "  ax = plt.subplot()\n",
        "  sns.heatmap(confMatrix, annot=True, fmt=\".0f\")\n",
        "  plt.xlabel('Real')\n",
        "  plt.ylabel('Previsto')\n",
        "  plt.title('Matriz de Confusão')\n",
        "\n",
        "  # Colocar os nomes\n",
        "  ax.xaxis.set_ticklabels(['Died', 'Lived']) \n",
        "  ax.yaxis.set_ticklabels(['Died', 'Lived'])\n",
        "  plt.show()\n",
        "\n",
        "predict_and_evaluate(X_test, y_test)"
      ],
      "execution_count": 36,
      "outputs": [
        {
          "output_type": "stream",
          "text": [
            "Acurácia:  0.8539325842696629\n",
            "Kappa:  0.6954461700447485\n",
            "F1:  0.8169014084507044\n"
          ],
          "name": "stdout"
        },
        {
          "output_type": "display_data",
          "data": {
            "image/png": "[encoded data removed]",
            "text/plain": [
              "<Figure size 432x288 with 2 Axes>"
            ]
          },
          "metadata": {
            "tags": [],
            "needs_background": "light"
          }
        }
      ]
    },
    {
      "cell_type": "code",
      "metadata": {
        "id": "1BzY7XZGA7oP"
      },
      "source": [
        "#normalizar\n",
        "\n",
        "from sklearn.preprocessing import StandardScaler\n",
        "scaler = StandardScaler().fit(X_train)\n",
        "X_train = scaler.transform(X_train)\n",
        "X_test = scaler.transform(X_test)\n",
        "\n"
      ],
      "execution_count": 37,
      "outputs": []
    },
    {
      "cell_type": "code",
      "metadata": {
        "id": "fUd263FEGthA",
        "colab": {
          "base_uri": "https://localhost:8080/",
          "height": 347
        },
        "outputId": "4c537dd3-53e2-4a8f-a02b-0959f5ec9af7"
      },
      "source": [
        "# Treinar e Testar novamente\n",
        "model = train(X_train, y_train, seed)\n",
        "predict_and_evaluate(X_test, y_test)"
      ],
      "execution_count": 38,
      "outputs": [
        {
          "output_type": "stream",
          "text": [
            "Acurácia:  0.8539325842696629\n",
            "Kappa:  0.6954461700447485\n",
            "F1:  0.8169014084507044\n"
          ],
          "name": "stdout"
        },
        {
          "output_type": "display_data",
          "data": {
            "image/png": "[encoded data removed]",
            "text/plain": [
              "<Figure size 432x288 with 2 Axes>"
            ]
          },
          "metadata": {
            "tags": [],
            "needs_background": "light"
          }
        }
      ]
    },
    {
      "cell_type": "code",
      "metadata": {
        "id": "tGONi_8KGua0",
        "colab": {
          "base_uri": "https://localhost:8080/"
        },
        "outputId": "a68c9259-7940-4441-8ab4-add390674b03"
      },
      "source": [
        "#grid search\n",
        "\n",
        "from sklearn.model_selection import GridSearchCV\n",
        "from sklearn.metrics import classification_report\n",
        "# Set the parameters by cross-validation\n",
        "tuned_parameters = [{'criterion': ['gini', 'entropy'], 'max_depth': [2,4,6,8,10,12],\n",
        "                     'min_samples_leaf': [1, 2, 3, 4, 5, 8, 10]}]\n",
        "\n",
        "print(\"# Tuning hyper-parameters for F1 score\")\n",
        "print()\n",
        "\n",
        "model = GridSearchCV(DecisionTreeClassifier(), tuned_parameters, scoring='f1')\n",
        "model.fit(X_train, y_train)\n",
        "\n",
        "y_true, y_pred = y_test, model.predict(X_test)\n",
        "print(classification_report(y_true, y_pred))\n",
        "print()"
      ],
      "execution_count": 39,
      "outputs": [
        {
          "output_type": "stream",
          "text": [
            "# Tuning hyper-parameters for F1 score\n",
            "\n",
            "              precision    recall  f1-score   support\n",
            "\n",
            "           0       0.96      0.96      0.96        53\n",
            "           1       0.94      0.94      0.94        36\n",
            "\n",
            "    accuracy                           0.96        89\n",
            "   macro avg       0.95      0.95      0.95        89\n",
            "weighted avg       0.96      0.96      0.96        89\n",
            "\n",
            "\n"
          ],
          "name": "stdout"
        }
      ]
    },
    {
      "cell_type": "code",
      "metadata": {
        "id": "H4rQdgSJH-dG",
        "colab": {
          "base_uri": "https://localhost:8080/",
          "height": 347
        },
        "outputId": "c85ff634-1ae8-4903-b620-8d8ef87e51c4"
      },
      "source": [
        "predict_and_evaluate(X_test, y_test)"
      ],
      "execution_count": 40,
      "outputs": [
        {
          "output_type": "stream",
          "text": [
            "Acurácia:  0.9550561797752809\n",
            "Kappa:  0.9067085953878407\n",
            "F1:  0.9444444444444444\n"
          ],
          "name": "stdout"
        },
        {
          "output_type": "display_data",
          "data": {
            "image/png": "[encoded data removed]",
            "text/plain": [
              "<Figure size 432x288 with 2 Axes>"
            ]
          },
          "metadata": {
            "tags": [],
            "needs_background": "light"
          }
        }
      ]
    },
    {
      "cell_type": "code",
      "metadata": {
        "id": "1GF674ZvH-f8",
        "colab": {
          "base_uri": "https://localhost:8080/"
        },
        "outputId": "e9ce121e-7622-4311-c18f-0f35e6a2c3d6"
      },
      "source": [
        "model.best_params_"
      ],
      "execution_count": 41,
      "outputs": [
        {
          "output_type": "execute_result",
          "data": {
            "text/plain": [
              "{'criterion': 'entropy', 'max_depth': 8, 'min_samples_leaf': 1}"
            ]
          },
          "metadata": {
            "tags": []
          },
          "execution_count": 41
        }
      ]
    },
    {
      "cell_type": "code",
      "metadata": {
        "id": "sORwwZc2H-nO"
      },
      "source": [
        ""
      ],
      "execution_count": 41,
      "outputs": []
    },
    {
      "cell_type": "markdown",
      "metadata": {
        "id": "SVhpRkngG9cg"
      },
      "source": [
        "##Modelo SVM"
      ]
    },
    {
      "cell_type": "code",
      "metadata": {
        "id": "TwQ9A8eWHCyI"
      },
      "source": [
        "# treinar modelo\n",
        "from sklearn.svm import SVC\n",
        "\n",
        "def trainSVM(X_train, y_train, seed):\n",
        "  model = SVC(random_state=seed)\n",
        "  model.fit(X_train, y_train)\n",
        "  return model\n",
        "\n",
        "model = trainSVM(X_train, y_train, seed)"
      ],
      "execution_count": 42,
      "outputs": []
    },
    {
      "cell_type": "code",
      "metadata": {
        "id": "851IJ445HC9z",
        "colab": {
          "base_uri": "https://localhost:8080/",
          "height": 347
        },
        "outputId": "1cea0fa3-c1c9-4e08-e8ea-5152d78d7eef"
      },
      "source": [
        "def predict_and_evaluate(X_test, y_test):\n",
        "\n",
        "  y_pred = model.predict(X_test) #inferência do teste\n",
        "\n",
        "  # Acurácia\n",
        "  from sklearn.metrics import accuracy_score\n",
        "  accuracy = accuracy_score(y_test, y_pred)\n",
        "  print('Acurácia: ', accuracy)\n",
        "\n",
        "  # Kappa\n",
        "  from sklearn.metrics import cohen_kappa_score\n",
        "  kappa = cohen_kappa_score(y_test, y_pred)\n",
        "  print('Kappa: ', kappa)\n",
        "\n",
        "  # F1\n",
        "  from sklearn.metrics import f1_score\n",
        "  f1 = f1_score(y_test, y_pred)\n",
        "  print('F1: ', f1)\n",
        "\n",
        "  # Matriz de confusão\n",
        "  from sklearn.metrics import confusion_matrix\n",
        "  confMatrix = confusion_matrix(y_pred, y_test)\n",
        "\n",
        "  ax = plt.subplot()\n",
        "  sns.heatmap(confMatrix, annot=True, fmt=\".0f\")\n",
        "  plt.xlabel('Real')\n",
        "  plt.ylabel('Previsto')\n",
        "  plt.title('Matriz de Confusão')\n",
        "\n",
        "  # Colocar os nomes\n",
        "  ax.xaxis.set_ticklabels(['Died', 'Lived']) \n",
        "  ax.yaxis.set_ticklabels(['Died', 'Lived'])\n",
        "  plt.show()\n",
        "\n",
        "predict_and_evaluate(X_test, y_test)"
      ],
      "execution_count": 43,
      "outputs": [
        {
          "output_type": "stream",
          "text": [
            "Acurácia:  0.9325842696629213\n",
            "Kappa:  0.860062893081761\n",
            "F1:  0.9166666666666666\n"
          ],
          "name": "stdout"
        },
        {
          "output_type": "display_data",
          "data": {
            "image/png": "[encoded data removed]",
            "text/plain": [
              "<Figure size 432x288 with 2 Axes>"
            ]
          },
          "metadata": {
            "tags": [],
            "needs_background": "light"
          }
        }
      ]
    },
    {
      "cell_type": "code",
      "metadata": {
        "id": "um6t6m30FNJu",
        "colab": {
          "base_uri": "https://localhost:8080/",
          "height": 347
        },
        "outputId": "9c31908c-59f7-4468-b468-22910e75eed2"
      },
      "source": [
        "#normalizar\n",
        "\n",
        "from sklearn.preprocessing import StandardScaler\n",
        "scaler = StandardScaler().fit(X_train)\n",
        "X_train = scaler.transform(X_train)\n",
        "X_test = scaler.transform(X_test)\n",
        "\n",
        "# Treinar e Testar novamente\n",
        "model = trainSVM(X_train, y_train, seed)\n",
        "predict_and_evaluate(X_test, y_test)"
      ],
      "execution_count": 44,
      "outputs": [
        {
          "output_type": "stream",
          "text": [
            "Acurácia:  0.9325842696629213\n",
            "Kappa:  0.860062893081761\n",
            "F1:  0.9166666666666666\n"
          ],
          "name": "stdout"
        },
        {
          "output_type": "display_data",
          "data": {
            "image/png": "[encoded data removed]",
            "text/plain": [
              "<Figure size 432x288 with 2 Axes>"
            ]
          },
          "metadata": {
            "tags": [],
            "needs_background": "light"
          }
        }
      ]
    },
    {
      "cell_type": "code",
      "metadata": {
        "id": "G-xbKjt_FVTp",
        "colab": {
          "base_uri": "https://localhost:8080/"
        },
        "outputId": "ebc7f772-a756-43ae-aa13-ee56e90a554f"
      },
      "source": [
        "#gridsearch\n",
        "\n",
        "from sklearn.model_selection import GridSearchCV\n",
        "from sklearn.metrics import classification_report\n",
        "# Set the parameters by cross-validation\n",
        "tuned_parameters = [{'kernel': ['rbf'], 'gamma': [1e-3, 1e-4],\n",
        "                     'C': [1, 10, 100, 1000]}]\n",
        "                     \n",
        "print(\"# Tuning hyper-parameters for F1 score\")\n",
        "print()\n",
        "\n",
        "model = GridSearchCV(SVC(), tuned_parameters, scoring='f1')\n",
        "model.fit(X_train, y_train)\n",
        "\n",
        "y_pred = model.predict(X_test)\n",
        "print(classification_report(y_test, y_pred))\n",
        "print()"
      ],
      "execution_count": 45,
      "outputs": [
        {
          "output_type": "stream",
          "text": [
            "# Tuning hyper-parameters for F1 score\n",
            "\n",
            "              precision    recall  f1-score   support\n",
            "\n",
            "           0       0.83      0.85      0.84        53\n",
            "           1       0.77      0.75      0.76        36\n",
            "\n",
            "    accuracy                           0.81        89\n",
            "   macro avg       0.80      0.80      0.80        89\n",
            "weighted avg       0.81      0.81      0.81        89\n",
            "\n",
            "\n"
          ],
          "name": "stdout"
        }
      ]
    },
    {
      "cell_type": "code",
      "metadata": {
        "id": "dXKejJBmFZyX",
        "colab": {
          "base_uri": "https://localhost:8080/",
          "height": 347
        },
        "outputId": "ede0bb03-5e50-461f-80f0-879f4f29890b"
      },
      "source": [
        "predict_and_evaluate(X_test, y_test)"
      ],
      "execution_count": 46,
      "outputs": [
        {
          "output_type": "stream",
          "text": [
            "Acurácia:  0.8089887640449438\n",
            "Kappa:  0.6017372992892867\n",
            "F1:  0.7605633802816902\n"
          ],
          "name": "stdout"
        },
        {
          "output_type": "display_data",
          "data": {
            "image/png": "[encoded data removed]",
            "text/plain": [
              "<Figure size 432x288 with 2 Axes>"
            ]
          },
          "metadata": {
            "tags": [],
            "needs_background": "light"
          }
        }
      ]
    },
    {
      "cell_type": "code",
      "metadata": {
        "id": "fof6d6eIMYs5"
      },
      "source": [
        ""
      ],
      "execution_count": 46,
      "outputs": []
    },
    {
      "cell_type": "code",
      "metadata": {
        "id": "hiCk_qzvMY2o"
      },
      "source": [
        ""
      ],
      "execution_count": 46,
      "outputs": []
    },
    {
      "cell_type": "markdown",
      "metadata": {
        "id": "uedrEnzwMave"
      },
      "source": [
        "## Random Forest"
      ]
    },
    {
      "cell_type": "code",
      "metadata": {
        "id": "iDQ2u2bwMY5V"
      },
      "source": [
        "# treinar modelo\n",
        "from sklearn.ensemble import RandomForestClassifier\n",
        "\n",
        "def train(X_train, y_train, seed):\n",
        "  model = RandomForestClassifier(min_samples_leaf=5, random_state=seed) # tente mudar parâmetro para evitar overfitting\n",
        "  model.fit(X_train, y_train);\n",
        "  return model\n",
        "\n",
        "model = train(X_train, y_train, seed)"
      ],
      "execution_count": 47,
      "outputs": []
    },
    {
      "cell_type": "code",
      "metadata": {
        "id": "-Ba4OM70MY8N",
        "colab": {
          "base_uri": "https://localhost:8080/",
          "height": 347
        },
        "outputId": "42ad55ae-07c4-4754-90a5-8f151673109c"
      },
      "source": [
        "#avaliar modelo treinado na base de teste\n",
        "def predict_and_evaluate(X_test, y_test):\n",
        "\n",
        "  y_pred = model.predict(X_test) #inferência do teste\n",
        "\n",
        "  # Acurácia\n",
        "  from sklearn.metrics import accuracy_score\n",
        "  accuracy = accuracy_score(y_test, y_pred)\n",
        "  print('Acurácia: ', accuracy)\n",
        "\n",
        "  # Kappa\n",
        "  from sklearn.metrics import cohen_kappa_score\n",
        "  kappa = cohen_kappa_score(y_test, y_pred)\n",
        "  print('Kappa: ', kappa)\n",
        "\n",
        "  # F1\n",
        "  from sklearn.metrics import f1_score\n",
        "  f1 = f1_score(y_test, y_pred)\n",
        "  print('F1: ', f1)\n",
        "\n",
        "  # Matriz de confusão\n",
        "  from sklearn.metrics import confusion_matrix\n",
        "  confMatrix = confusion_matrix(y_pred, y_test)\n",
        "\n",
        "  ax = plt.subplot()\n",
        "  sns.heatmap(confMatrix, annot=True, fmt=\".0f\")\n",
        "  plt.xlabel('Real')\n",
        "  plt.ylabel('Previsto')\n",
        "  plt.title('Matriz de Confusão')\n",
        "\n",
        "  # Colocar os nomes\n",
        "  ax.xaxis.set_ticklabels(['Died', 'Lived']) \n",
        "  ax.yaxis.set_ticklabels(['Died', 'Lived'])\n",
        "  plt.show()\n",
        "\n",
        "predict_and_evaluate(X_test, y_test)"
      ],
      "execution_count": 48,
      "outputs": [
        {
          "output_type": "stream",
          "text": [
            "Acurácia:  0.8651685393258427\n",
            "Kappa:  0.7176097303014278\n",
            "F1:  0.8285714285714286\n"
          ],
          "name": "stdout"
        },
        {
          "output_type": "display_data",
          "data": {
            "image/png": "[encoded data removed]",
            "text/plain": [
              "<Figure size 432x288 with 2 Axes>"
            ]
          },
          "metadata": {
            "tags": [],
            "needs_background": "light"
          }
        }
      ]
    },
    {
      "cell_type": "code",
      "metadata": {
        "id": "r-C8yr1ZMY-3"
      },
      "source": [
        "#normalizar\n",
        "\n",
        "from sklearn.preprocessing import StandardScaler\n",
        "scaler = StandardScaler().fit(X_train)\n",
        "X_train = scaler.transform(X_train)\n",
        "X_test = scaler.transform(X_test)"
      ],
      "execution_count": 49,
      "outputs": []
    },
    {
      "cell_type": "code",
      "metadata": {
        "id": "wGGf45kOMZBY",
        "colab": {
          "base_uri": "https://localhost:8080/",
          "height": 347
        },
        "outputId": "577ddea5-0b56-493f-ce7b-5c4ee1847d01"
      },
      "source": [
        "# Treinar e Testar novamente\n",
        "model = train(X_train, y_train, seed)\n",
        "predict_and_evaluate(X_test, y_test)"
      ],
      "execution_count": 50,
      "outputs": [
        {
          "output_type": "stream",
          "text": [
            "Acurácia:  0.8651685393258427\n",
            "Kappa:  0.7176097303014278\n",
            "F1:  0.8285714285714286\n"
          ],
          "name": "stdout"
        },
        {
          "output_type": "display_data",
          "data": {
            "image/png": "[encoded data removed]",
            "text/plain": [
              "<Figure size 432x288 with 2 Axes>"
            ]
          },
          "metadata": {
            "tags": [],
            "needs_background": "light"
          }
        }
      ]
    },
    {
      "cell_type": "code",
      "metadata": {
        "id": "39JhKRoRapgV",
        "colab": {
          "base_uri": "https://localhost:8080/"
        },
        "outputId": "9e02077c-f9bc-41fb-d3b3-c19d72197c5a"
      },
      "source": [
        "#grid search\n",
        "\n",
        "from sklearn.model_selection import GridSearchCV\n",
        "from sklearn.metrics import classification_report\n",
        "# Set the parameters by cross-validation\n",
        "tuned_parameters = [{'n_estimators': [20, 50, 100, 150, 200, 300, 400, 500],\n",
        "                     'max_features': [3,4,8,9,10,11]}]\n",
        "\n",
        "print(\"# Tuning hyper-parameters for F1 score\")\n",
        "print()\n",
        "\n",
        "model = GridSearchCV(RandomForestClassifier(), tuned_parameters, scoring='f1')\n",
        "model.fit(X_train, y_train)\n",
        "\n",
        "y_true, y_pred = y_test, model.predict(X_test)\n",
        "print(classification_report(y_true, y_pred))\n",
        "print()"
      ],
      "execution_count": 51,
      "outputs": [
        {
          "output_type": "stream",
          "text": [
            "# Tuning hyper-parameters for F1 score\n",
            "\n",
            "              precision    recall  f1-score   support\n",
            "\n",
            "           0       1.00      1.00      1.00        53\n",
            "           1       1.00      1.00      1.00        36\n",
            "\n",
            "    accuracy                           1.00        89\n",
            "   macro avg       1.00      1.00      1.00        89\n",
            "weighted avg       1.00      1.00      1.00        89\n",
            "\n",
            "\n"
          ],
          "name": "stdout"
        }
      ]
    },
    {
      "cell_type": "code",
      "metadata": {
        "id": "kU4yp0d_athi",
        "colab": {
          "base_uri": "https://localhost:8080/",
          "height": 347
        },
        "outputId": "e84b9c0a-4e45-46dc-e851-56fcef7e7eaf"
      },
      "source": [
        "predict_and_evaluate(X_test, y_test)"
      ],
      "execution_count": 52,
      "outputs": [
        {
          "output_type": "stream",
          "text": [
            "Acurácia:  1.0\n",
            "Kappa:  1.0\n",
            "F1:  1.0\n"
          ],
          "name": "stdout"
        },
        {
          "output_type": "display_data",
          "data": {
            "image/png": "[encoded data removed]",
            "text/plain": [
              "<Figure size 432x288 with 2 Axes>"
            ]
          },
          "metadata": {
            "tags": [],
            "needs_background": "light"
          }
        }
      ]
    },
    {
      "cell_type": "code",
      "metadata": {
        "id": "ndXKxuj3L4e7"
      },
      "source": [
        ""
      ],
      "execution_count": 52,
      "outputs": []
    },
    {
      "cell_type": "markdown",
      "metadata": {
        "id": "5PJsouPmL4vw"
      },
      "source": [
        "##KNN"
      ]
    },
    {
      "cell_type": "code",
      "metadata": {
        "id": "eajpRo5XL7ZC"
      },
      "source": [
        "# treinar modelo\n",
        "from sklearn.neighbors import KNeighborsClassifier\n",
        "\n",
        "def train(X_train, y_train, n_neighbors=5):\n",
        "  model = KNeighborsClassifier(n_neighbors=n_neighbors)\n",
        "  model.fit(X_train, y_train);\n",
        "  y_pred = model.predict(X_test) #inferência do teste\n",
        "\n",
        "  return model, y_pred\n",
        "\n",
        "model, y_pred = train(X_train, y_train)"
      ],
      "execution_count": 53,
      "outputs": []
    },
    {
      "cell_type": "code",
      "metadata": {
        "id": "5cikHdF8MYaT",
        "colab": {
          "base_uri": "https://localhost:8080/",
          "height": 347
        },
        "outputId": "cfc7d4f2-36e1-4efd-c651-d5dae9248fb0"
      },
      "source": [
        "#avaliar modelo\n",
        "def predict_and_evaluate(y_test, y_pred):  \n",
        "\n",
        "  # Acurácia\n",
        "  from sklearn.metrics import accuracy_score\n",
        "  accuracy = accuracy_score(y_test, y_pred)\n",
        "  print('Acurácia: ', accuracy)\n",
        "\n",
        "  # Kappa\n",
        "  from sklearn.metrics import cohen_kappa_score\n",
        "  kappa = cohen_kappa_score(y_test, y_pred)\n",
        "  print('Kappa: ', kappa)\n",
        "\n",
        "  # F1\n",
        "  from sklearn.metrics import f1_score\n",
        "  f1 = f1_score(y_test, y_pred, average='weighted')\n",
        "  print('F1: ', f1)\n",
        "\n",
        "  # Matriz de confusão\n",
        "  from sklearn.metrics import confusion_matrix\n",
        "  confMatrix = confusion_matrix(y_pred, y_test)\n",
        "\n",
        "  ax = plt.subplot()\n",
        "  sns.heatmap(confMatrix, annot=True, fmt=\".0f\")\n",
        "  plt.xlabel('Real')\n",
        "  plt.ylabel('Previsto')\n",
        "  plt.title('Matriz de Confusão')\n",
        "\n",
        "  # Colocar os nomes\n",
        "  ax.xaxis.set_ticklabels(['Died', 'Lived']) \n",
        "  ax.yaxis.set_ticklabels(['Died', 'Lived'])\n",
        "  plt.show()\n",
        "\n",
        "predict_and_evaluate(y_test, y_pred)"
      ],
      "execution_count": 54,
      "outputs": [
        {
          "output_type": "stream",
          "text": [
            "Acurácia:  0.7865168539325843\n",
            "Kappa:  0.5467703028678639\n",
            "F1:  0.7833592438657003\n"
          ],
          "name": "stdout"
        },
        {
          "output_type": "display_data",
          "data": {
            "image/png": "[encoded data removed]",
            "text/plain": [
              "<Figure size 432x288 with 2 Axes>"
            ]
          },
          "metadata": {
            "tags": [],
            "needs_background": "light"
          }
        }
      ]
    },
    {
      "cell_type": "code",
      "metadata": {
        "id": "tfhHbTXwMcSM"
      },
      "source": [
        "#normalizar\n",
        "from sklearn.preprocessing import StandardScaler\n",
        "scaler = StandardScaler().fit(X_train)\n",
        "X_train = scaler.transform(X_train)\n",
        "X_test = scaler.transform(X_test)"
      ],
      "execution_count": 55,
      "outputs": []
    },
    {
      "cell_type": "code",
      "metadata": {
        "id": "EtoECNdxMrDf",
        "colab": {
          "base_uri": "https://localhost:8080/",
          "height": 347
        },
        "outputId": "0ebc3305-4a70-43ab-bee3-78f173bd95f3"
      },
      "source": [
        "# Treinar e Testar novamente\n",
        "model, y_pred = train(X_train, y_train)\n",
        "predict_and_evaluate(y_test, y_pred)"
      ],
      "execution_count": 56,
      "outputs": [
        {
          "output_type": "stream",
          "text": [
            "Acurácia:  0.7865168539325843\n",
            "Kappa:  0.5467703028678639\n",
            "F1:  0.7833592438657003\n"
          ],
          "name": "stdout"
        },
        {
          "output_type": "display_data",
          "data": {
            "image/png": "[encoded data removed]",
            "text/plain": [
              "<Figure size 432x288 with 2 Axes>"
            ]
          },
          "metadata": {
            "tags": [],
            "needs_background": "light"
          }
        }
      ]
    },
    {
      "cell_type": "code",
      "metadata": {
        "id": "J7jJC_C3MtOG",
        "colab": {
          "base_uri": "https://localhost:8080/"
        },
        "outputId": "e5b63ca4-29fb-4155-cfda-8283abc3b484"
      },
      "source": [
        "from sklearn.model_selection import GridSearchCV\n",
        "from sklearn.metrics import classification_report\n",
        "\n",
        "# Parâmetros a serem testados\n",
        "tuned_parameters = [{'n_neighbors': [2, 3, 4, 5, 6, 7, 8, 9, 10]\n",
        "                     }]\n",
        "\n",
        "print(\"# Tuning hyper-parâmetros parar F1 score\")\n",
        "print()\n",
        "\n",
        "model = GridSearchCV(KNeighborsClassifier(), tuned_parameters, scoring='f1_weighted')\n",
        "model.fit(X_train, y_train)\n",
        "\n",
        "y_pred = model.predict(X_test)\n",
        "print(classification_report(y_test, y_pred))\n",
        "print()"
      ],
      "execution_count": 57,
      "outputs": [
        {
          "output_type": "stream",
          "text": [
            "# Tuning hyper-parâmetros parar F1 score\n",
            "\n",
            "              precision    recall  f1-score   support\n",
            "\n",
            "           0       0.78      0.89      0.83        53\n",
            "           1       0.79      0.64      0.71        36\n",
            "\n",
            "    accuracy                           0.79        89\n",
            "   macro avg       0.79      0.76      0.77        89\n",
            "weighted avg       0.79      0.79      0.78        89\n",
            "\n",
            "\n"
          ],
          "name": "stdout"
        }
      ]
    },
    {
      "cell_type": "code",
      "metadata": {
        "id": "GsJ9oX6jMwo8",
        "colab": {
          "base_uri": "https://localhost:8080/",
          "height": 347
        },
        "outputId": "29683df6-04e4-4a23-d2d8-0eeed05b8e78"
      },
      "source": [
        "predict_and_evaluate(y_test, y_pred)"
      ],
      "execution_count": 58,
      "outputs": [
        {
          "output_type": "stream",
          "text": [
            "Acurácia:  0.7865168539325843\n",
            "Kappa:  0.5426021098187719\n",
            "F1:  0.7816339174398238\n"
          ],
          "name": "stdout"
        },
        {
          "output_type": "display_data",
          "data": {
            "image/png": "[encoded data removed]",
            "text/plain": [
              "<Figure size 432x288 with 2 Axes>"
            ]
          },
          "metadata": {
            "tags": [],
            "needs_background": "light"
          }
        }
      ]
    },
    {
      "cell_type": "code",
      "metadata": {
        "id": "TiO1THcVMx3V",
        "colab": {
          "base_uri": "https://localhost:8080/"
        },
        "outputId": "03b9044e-3d41-4404-b7bd-4ce8356976e5"
      },
      "source": [
        "probabilities = model.predict_proba(X_test)\n",
        "probabilities"
      ],
      "execution_count": 59,
      "outputs": [
        {
          "output_type": "execute_result",
          "data": {
            "text/plain": [
              "array([[0.77777778, 0.22222222],\n",
              "       [0.88888889, 0.11111111],\n",
              "       [0.77777778, 0.22222222],\n",
              "       [0.88888889, 0.11111111],\n",
              "       [0.88888889, 0.11111111],\n",
              "       [0.66666667, 0.33333333],\n",
              "       [0.66666667, 0.33333333],\n",
              "       [1.        , 0.        ],\n",
              "       [0.33333333, 0.66666667],\n",
              "       [0.11111111, 0.88888889],\n",
              "       [0.11111111, 0.88888889],\n",
              "       [0.44444444, 0.55555556],\n",
              "       [0.66666667, 0.33333333],\n",
              "       [1.        , 0.        ],\n",
              "       [0.44444444, 0.55555556],\n",
              "       [0.55555556, 0.44444444],\n",
              "       [0.11111111, 0.88888889],\n",
              "       [0.55555556, 0.44444444],\n",
              "       [1.        , 0.        ],\n",
              "       [1.        , 0.        ],\n",
              "       [0.33333333, 0.66666667],\n",
              "       [0.11111111, 0.88888889],\n",
              "       [0.11111111, 0.88888889],\n",
              "       [0.77777778, 0.22222222],\n",
              "       [0.11111111, 0.88888889],\n",
              "       [0.77777778, 0.22222222],\n",
              "       [0.66666667, 0.33333333],\n",
              "       [1.        , 0.        ],\n",
              "       [1.        , 0.        ],\n",
              "       [0.88888889, 0.11111111],\n",
              "       [0.88888889, 0.11111111],\n",
              "       [0.66666667, 0.33333333],\n",
              "       [0.66666667, 0.33333333],\n",
              "       [0.55555556, 0.44444444],\n",
              "       [0.66666667, 0.33333333],\n",
              "       [0.33333333, 0.66666667],\n",
              "       [0.66666667, 0.33333333],\n",
              "       [0.55555556, 0.44444444],\n",
              "       [0.88888889, 0.11111111],\n",
              "       [0.88888889, 0.11111111],\n",
              "       [0.11111111, 0.88888889],\n",
              "       [0.88888889, 0.11111111],\n",
              "       [0.88888889, 0.11111111],\n",
              "       [0.77777778, 0.22222222],\n",
              "       [0.44444444, 0.55555556],\n",
              "       [1.        , 0.        ],\n",
              "       [0.88888889, 0.11111111],\n",
              "       [0.88888889, 0.11111111],\n",
              "       [0.77777778, 0.22222222],\n",
              "       [1.        , 0.        ],\n",
              "       [0.55555556, 0.44444444],\n",
              "       [0.44444444, 0.55555556],\n",
              "       [0.66666667, 0.33333333],\n",
              "       [0.44444444, 0.55555556],\n",
              "       [0.22222222, 0.77777778],\n",
              "       [0.77777778, 0.22222222],\n",
              "       [1.        , 0.        ],\n",
              "       [0.77777778, 0.22222222],\n",
              "       [0.22222222, 0.77777778],\n",
              "       [0.33333333, 0.66666667],\n",
              "       [1.        , 0.        ],\n",
              "       [0.77777778, 0.22222222],\n",
              "       [1.        , 0.        ],\n",
              "       [0.33333333, 0.66666667],\n",
              "       [0.66666667, 0.33333333],\n",
              "       [0.33333333, 0.66666667],\n",
              "       [1.        , 0.        ],\n",
              "       [0.33333333, 0.66666667],\n",
              "       [0.55555556, 0.44444444],\n",
              "       [0.22222222, 0.77777778],\n",
              "       [0.44444444, 0.55555556],\n",
              "       [0.66666667, 0.33333333],\n",
              "       [0.88888889, 0.11111111],\n",
              "       [0.44444444, 0.55555556],\n",
              "       [0.77777778, 0.22222222],\n",
              "       [0.33333333, 0.66666667],\n",
              "       [0.66666667, 0.33333333],\n",
              "       [0.55555556, 0.44444444],\n",
              "       [0.55555556, 0.44444444],\n",
              "       [0.22222222, 0.77777778],\n",
              "       [0.33333333, 0.66666667],\n",
              "       [0.77777778, 0.22222222],\n",
              "       [0.77777778, 0.22222222],\n",
              "       [0.44444444, 0.55555556],\n",
              "       [0.55555556, 0.44444444],\n",
              "       [1.        , 0.        ],\n",
              "       [0.66666667, 0.33333333],\n",
              "       [0.55555556, 0.44444444],\n",
              "       [0.33333333, 0.66666667]])"
            ]
          },
          "metadata": {
            "tags": []
          },
          "execution_count": 59
        }
      ]
    },
    {
      "cell_type": "markdown",
      "metadata": {
        "id": "hDZLLL4MvnLQ"
      },
      "source": [
        "## Regressão Logística"
      ]
    },
    {
      "cell_type": "code",
      "metadata": {
        "id": "jKeUVKxAvzi-"
      },
      "source": [
        "# treinar modelo\n",
        "from sklearn.linear_model import LogisticRegression\n",
        "\n",
        "def train(X_train, y_train):\n",
        "  model = LogisticRegression()\n",
        "  model.fit(X_train, y_train);\n",
        "  y_pred = model.predict(X_test) #inferência do teste\n",
        "\n",
        "  return model, y_pred\n",
        "\n",
        "model, y_pred = train(X_train, y_train)"
      ],
      "execution_count": 60,
      "outputs": []
    },
    {
      "cell_type": "code",
      "metadata": {
        "colab": {
          "base_uri": "https://localhost:8080/",
          "height": 347
        },
        "id": "1qOk74gfvz8C",
        "outputId": "c789774f-dd8b-42ba-8b03-bacd4eccf9b7"
      },
      "source": [
        "def predict_and_evaluate(y_test, y_pred):  \n",
        "\n",
        "  # Acurácia\n",
        "  from sklearn.metrics import accuracy_score\n",
        "  accuracy = accuracy_score(y_test, y_pred)\n",
        "  print('Acurácia: ', accuracy)\n",
        "\n",
        "  # Kappa\n",
        "  from sklearn.metrics import cohen_kappa_score\n",
        "  kappa = cohen_kappa_score(y_test, y_pred)\n",
        "  print('Kappa: ', kappa)\n",
        "\n",
        "  # F1\n",
        "  from sklearn.metrics import f1_score\n",
        "  f1 = f1_score(y_test, y_pred, average='weighted')\n",
        "  print('F1: ', f1)\n",
        "\n",
        "  # Matriz de confusão\n",
        "  from sklearn.metrics import confusion_matrix\n",
        "  confMatrix = confusion_matrix(y_pred, y_test)\n",
        "\n",
        "  ax = plt.subplot()\n",
        "  sns.heatmap(confMatrix, annot=True, fmt=\".0f\")\n",
        "  plt.xlabel('Real')\n",
        "  plt.ylabel('Previsto')\n",
        "  plt.title('Matriz de Confusão')\n",
        "\n",
        "  # Colocar os nomes\n",
        "  ax.xaxis.set_ticklabels(['Died', 'Lived']) \n",
        "  ax.yaxis.set_ticklabels(['Died', 'Lived'])\n",
        "  plt.show()\n",
        "\n",
        "predict_and_evaluate(y_test, y_pred)"
      ],
      "execution_count": 61,
      "outputs": [
        {
          "output_type": "stream",
          "text": [
            "Acurácia:  0.8202247191011236\n",
            "Kappa:  0.6234796404019037\n",
            "F1:  0.8193210867368171\n"
          ],
          "name": "stdout"
        },
        {
          "output_type": "display_data",
          "data": {
            "image/png": "[encoded data removed]",
            "text/plain": [
              "<Figure size 432x288 with 2 Axes>"
            ]
          },
          "metadata": {
            "tags": [],
            "needs_background": "light"
          }
        }
      ]
    },
    {
      "cell_type": "code",
      "metadata": {
        "id": "hYe0smyUv0Ck"
      },
      "source": [
        "#normalizar\n",
        "\n",
        "from sklearn.preprocessing import StandardScaler\n",
        "scaler = StandardScaler().fit(X_train)\n",
        "X_train = scaler.transform(X_train)\n",
        "X_test = scaler.transform(X_test)"
      ],
      "execution_count": 62,
      "outputs": []
    },
    {
      "cell_type": "code",
      "metadata": {
        "colab": {
          "base_uri": "https://localhost:8080/",
          "height": 347
        },
        "id": "Yw11_8eywOzq",
        "outputId": "34cedd71-17ea-4d10-a132-639020602d96"
      },
      "source": [
        "# Treinar e Testar novamente\n",
        "model, y_pred = train(X_train, y_train)\n",
        "predict_and_evaluate(y_test, y_pred)"
      ],
      "execution_count": 63,
      "outputs": [
        {
          "output_type": "stream",
          "text": [
            "Acurácia:  0.8202247191011236\n",
            "Kappa:  0.6234796404019037\n",
            "F1:  0.8193210867368171\n"
          ],
          "name": "stdout"
        },
        {
          "output_type": "display_data",
          "data": {
            "image/png": "[encoded data removed]",
            "text/plain": [
              "<Figure size 432x288 with 2 Axes>"
            ]
          },
          "metadata": {
            "tags": [],
            "needs_background": "light"
          }
        }
      ]
    },
    {
      "cell_type": "code",
      "metadata": {
        "colab": {
          "base_uri": "https://localhost:8080/"
        },
        "id": "1MGoe7S0wPET",
        "outputId": "cb91930d-9801-4010-ee68-59197461e007"
      },
      "source": [
        "#Grid search\n",
        "\n",
        "from sklearn.model_selection import GridSearchCV\n",
        "from sklearn.metrics import classification_report\n",
        "\n",
        "# Parâmetros a serem testados\n",
        "tuned_parameters = [{'C': [0.1, 1.0, 10]}]\n",
        "\n",
        "print(\"# Tuning hyper-parâmetros parar F1 score\")\n",
        "print()\n",
        "\n",
        "model = GridSearchCV(LogisticRegression(), tuned_parameters, scoring='f1_weighted')\n",
        "model.fit(X_train, y_train)\n",
        "\n",
        "y_pred = model.predict(X_test)\n",
        "print(classification_report(y_test, y_pred))\n",
        "print()"
      ],
      "execution_count": 64,
      "outputs": [
        {
          "output_type": "stream",
          "text": [
            "# Tuning hyper-parâmetros parar F1 score\n",
            "\n",
            "              precision    recall  f1-score   support\n",
            "\n",
            "           0       0.85      0.87      0.86        53\n",
            "           1       0.80      0.78      0.79        36\n",
            "\n",
            "    accuracy                           0.83        89\n",
            "   macro avg       0.83      0.82      0.82        89\n",
            "weighted avg       0.83      0.83      0.83        89\n",
            "\n",
            "\n"
          ],
          "name": "stdout"
        }
      ]
    },
    {
      "cell_type": "code",
      "metadata": {
        "colab": {
          "base_uri": "https://localhost:8080/",
          "height": 347
        },
        "id": "gizvNNMlwPG1",
        "outputId": "c867d295-bfa2-4ce6-badc-57870c48cec0"
      },
      "source": [
        "predict_and_evaluate(y_test, y_pred)"
      ],
      "execution_count": 65,
      "outputs": [
        {
          "output_type": "stream",
          "text": [
            "Acurácia:  0.8314606741573034\n",
            "Kappa:  0.6485917346670176\n",
            "F1:  0.8310613444396295\n"
          ],
          "name": "stdout"
        },
        {
          "output_type": "display_data",
          "data": {
            "image/png": "[encoded data removed]",
            "text/plain": [
              "<Figure size 432x288 with 2 Axes>"
            ]
          },
          "metadata": {
            "tags": [],
            "needs_background": "light"
          }
        }
      ]
    },
    {
      "cell_type": "code",
      "metadata": {
        "id": "C38_QokXv0Gl"
      },
      "source": [
        ""
      ],
      "execution_count": 65,
      "outputs": []
    }
  ]
}