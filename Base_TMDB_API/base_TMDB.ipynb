{
  "nbformat": 4,
  "nbformat_minor": 0,
  "metadata": {
    "colab": {
      "name": "base TMDB.ipynb",
      "provenance": [],
      "collapsed_sections": []
    },
    "kernelspec": {
      "name": "python3",
      "display_name": "Python 3"
    },
    "language_info": {
      "name": "python"
    }
  },
  "cells": [
    {
      "cell_type": "code",
      "metadata": {
        "id": "Q3Y3y3s6PV4C"
      },
      "source": [
        "# API: https://developers.themoviedb.org/3/getting-started/introduction\n",
        "\n",
        "import requests\n",
        "import pandas as pd\n"
      ],
      "execution_count": null,
      "outputs": []
    },
    {
      "cell_type": "code",
      "metadata": {
        "colab": {
          "base_uri": "https://localhost:8080/"
        },
        "id": "QrurG8rxTv5q",
        "outputId": "5c52a3dd-0e92-497c-b862-f1d01b04eeff"
      },
      "source": [
        "!pip install tmdbv3api\n",
        "from tmdbv3api import TMDb\n",
        "tmdb = TMDb()\n",
        "tmdb.api_key = '8f6fe0e06ae8a6d19e979186c5457611'"
      ],
      "execution_count": null,
      "outputs": [
        {
          "output_type": "stream",
          "text": [
            "Requirement already satisfied: tmdbv3api in /usr/local/lib/python3.7/dist-packages (1.7.6)\n",
            "Requirement already satisfied: requests in /usr/local/lib/python3.7/dist-packages (from tmdbv3api) (2.23.0)\n",
            "Requirement already satisfied: chardet<4,>=3.0.2 in /usr/local/lib/python3.7/dist-packages (from requests->tmdbv3api) (3.0.4)\n",
            "Requirement already satisfied: certifi>=2017.4.17 in /usr/local/lib/python3.7/dist-packages (from requests->tmdbv3api) (2021.5.30)\n",
            "Requirement already satisfied: urllib3!=1.25.0,!=1.25.1,<1.26,>=1.21.1 in /usr/local/lib/python3.7/dist-packages (from requests->tmdbv3api) (1.24.3)\n",
            "Requirement already satisfied: idna<3,>=2.5 in /usr/local/lib/python3.7/dist-packages (from requests->tmdbv3api) (2.10)\n"
          ],
          "name": "stdout"
        }
      ]
    },
    {
      "cell_type": "code",
      "metadata": {
        "id": "bBA4g3Rss4ak"
      },
      "source": [
        "tmdb.language = 'pt-BR'\n",
        "tmdb.debug = True\n",
        "\n"
      ],
      "execution_count": null,
      "outputs": []
    },
    {
      "cell_type": "code",
      "metadata": {
        "id": "QBL_mT44s4dA",
        "colab": {
          "base_uri": "https://localhost:8080/"
        },
        "outputId": "c3508757-852f-4967-cc99-15f71344810b"
      },
      "source": [
        "#consultando a API\n",
        "\n",
        "from tmdbv3api import Movie\n",
        "movie = Movie()\n",
        "popular = movie.popular()\n",
        "\n",
        "for p in popular:\n",
        "    print(p.id)\n",
        "    print(p.title)\n",
        "    print(p.genre_ids)\n",
        "    print(p.overview)\n",
        "    print(p.popularity)\n",
        "    print(p.vote_count)\n",
        "\n"
      ],
      "execution_count": null,
      "outputs": [
        {
          "output_type": "stream",
          "text": [
            "497698\n",
            "Viúva Negra\n",
            "[28, 12, 53, 878]\n",
            "Natasha Romanoff \"Viúva Negra\" precisa confrontar partes de sua história quando surge uma conspiração perigosa ligada ao seu passado. Perseguida por uma força que não irá parar até derrotá-la, Natasha terá que lidar com sua antiga vida de espiã, e também reencontrar membros de sua família que deixou para trás antes de se tornar parte dos Vingadores.\n",
            "9692.351\n",
            "2446\n",
            "588228\n",
            "A Guerra do Amanhã\n",
            "[28, 878]\n",
            "Em 2051, a humanidade está perdendo uma guerra global contra uma espécie mortal de alienígenas. Para garantir a sobrevivência dos humanos, soldados e civis do presente são transportados para o futuro e se juntam à luta, entre eles Dan Forester, um pai de família determinado a salvar o mundo para sua filha.\n",
            "4299.876\n",
            "2405\n",
            "459151\n",
            "O Poderoso Chefinho 2: Negócios da Família\n",
            "[16, 35, 12, 10751]\n",
            "Tim Templeton e seu irmão mais novo Ted, o famoso Boss Baby, tornaram-se adultos, vivem por conta própria, Tim se tornou um homem de família organizado e Ted é o chefe de um grande fundo especulativo. Mas a chegada de um novo Boss Baby, com uma abordagem totalmente nova e estratégia inovadora, está prestes a unir os irmãos inimigos ... e inspirar um novo modelo nos assuntos familiares.  Tim e sua esposa Carole moram no subúrbio, onde ele cuida da casa enquanto ela cozinha a panela. Eles têm dois filhos: Tabitha, uma menina de 7 anos extremamente inteligente, e Tina, sua adorável recém-nascida. Tabitha, a primeira da classe em uma escola para superdotados, adora o tio Ted e sonha em seguir seus passos, o que preocupa muito Tim, que teme perder a infância por trabalhar tanto.\n",
            "4197.649\n",
            "609\n",
            "508943\n",
            "Luca\n",
            "[16, 35, 10751, 14]\n",
            "Ambientado na bela Riviera Italiana, este longa-metragem da Disney e da Pixar acompanha as aventuras do garoto Luca durante um verão inesquecível repleto de macarronadas, gelatos e passeios incríveis de motoneta ao lado de seu novo amigo Alberto. Mas um grande segredo ameaça colocar fim à diversão: abaixo da superfície da água, eles são monstros marinhos!\n",
            "3445.126\n",
            "2791\n",
            "522478\n",
            "Pedro Coelho 2: O Fugitivo\n",
            "[10751, 35, 12, 16, 14]\n",
            "Bea, Thomas e os coelhos construíram uma familia improvisada. Quando o coelho arteiro decide se aventurar para além do jardim, encontra um mundo onde não é mais o protagonista rebelde e suas travessuras não são admiráveis. Agora, sua familia arrisca tudo para conseguir achá-lo, enqunato ele encara uma jornada de autoconhecimento.\n",
            "2324.541\n",
            "156\n",
            "581726\n",
            "Infinite\n",
            "[878, 28, 53]\n",
            "Adaptação cinematográfica do livro The Reincarnationist Papers, que conta a história de Evan Michael, um homem assombrado pelas memórias de suas duas vidas passadas que vê sua vida mudar quando encontra a sociedade secreta \"Cognomina\", da qual os membros possuem todas as lembranças de suas antigas existências.\n",
            "2296.745\n",
            "504\n",
            "385128\n",
            "Velozes & Furiosos 9\n",
            "[28, 12, 80, 53]\n",
            "Dominic Toretto e sua família precisam enfrentar o seu irmão mais novo Jakob, um assassino mortal que está trabalhando com uma antiga inimiga, a cyber-terrorista Cipher.\n",
            "2192.09\n",
            "564\n",
            "520763\n",
            "Um Lugar Silencioso - Parte II\n",
            "[878, 53, 27]\n",
            "Logo após os acontecimentos mortais, até mesmo dentro de casa, a família Abbott precisa agora encarar o terror mundo afora, continuando a lutar para sobreviver em silêncio. Obrigados a se aventurar pelo desconhecido, eles rapidamente percebem que as criaturas que caçam pelo som não são as únicas ameaças que os observam pelo caminho de areia.\n",
            "2114.408\n",
            "1839\n",
            "379686\n",
            "Space Jam: Um Novo Legado\n",
            "[16, 35, 10751, 878]\n",
            "O superastro do basquete LeBron James se junta à gangue Looney Tunes para derrotar o Goon Squad e salvar seu filho.\n",
            "2058.525\n",
            "233\n",
            "637649\n",
            "Infiltrado\n",
            "[80, 28, 53]\n",
            "Harry, conhecido apenas como H, é um homem misterioso que trabalha para uma empresa de carros-fortes e movimenta grandes quantias de dinheiro pela cidade de Los Angeles. Quando, ao impedir um assalto, ele surpreende a todos com suas habilidades de combate, suas verdadeiras intenções começam a ser questionadas e um plano maior é revelado.\n",
            "1783.151\n",
            "1355\n",
            "591274\n",
            "Rua do Medo: 1978 - Parte 2\n",
            "[27, 9648]\n",
            "O Acampamento Nightwing está dividido entre os campistas e os monitores que vêm da próspera Sunnyside e aqueles que vêm da sinistra Shadyside. Porém, quando os horrores que suas cidades escondem ganham vida, eles devem se unir para desvendar um terrível mistério antes que seja tarde demais.\n",
            "1731.234\n",
            "372\n",
            "591273\n",
            "Rua do Medo: 1994 - Parte 1\n",
            "[27, 9648]\n",
            "Depois de uma série de assassinatos brutais, um grupo de adolescentes enfrenta uma força maligna que aterroriza a cidade há séculos. Bem-vindos a Shadyside.\n",
            "1646.751\n",
            "531\n",
            "337404\n",
            "Cruella\n",
            "[35, 80]\n",
            "Na Londres dos anos 70 em meio à revolução do punk rock, Estella, uma garota inteligente e criativa determinada a fazer um nome para si através de seus designs. Ela faz amizade com uma dupla de jovens ladrões e, juntos, constroem uma vida para si nas ruas de Londres. Um dia, o talento de Estella para a moda chama a atenção da Baronesa Von Hellman, uma lenda fashion que é devastadoramente chique e assustadora. Mas o relacionamento delas desencadeia um curso de eventos e revelações que farão com que Estella abrace seu lado rebelde e se torne a Cruella má, elegante e voltada para a vingança.\n",
            "1557.866\n",
            "4077\n",
            "649409\n",
            "Nem um Passo em Falso\n",
            "[80, 18, 53, 9648]\n",
            "Um grupo de pequenos criminosos em Detroit na década de 1950 são contratados por uma pessoa anônima para roubar um importante documento. Mas quando seu plano dá terrivelmente errado, o grupo descobre que se envolveu em uma rede de conspirações muito maior do que poderiam imaginar.\n",
            "1473.393\n",
            "90\n",
            "602223\n",
            "Uma Noite de Crime 5:  A Fronteira\n",
            "[12, 53, 28, 27]\n",
            "A trama se passará após os eventos de ‘O Ano da Eleição’ e será focada em Adela (Ana de la Reguera) e Juan (Tenoch Huerta), que encontram abrigo em um rancho no Texas, após fugirem de um cartel no México. As coisas dão errado quando um grupo de forasteiros decide continuar purgando além do tempo concedido, quando as pessoas podem violar todas e quaisquer leis.\n",
            "1310.523\n",
            "62\n",
            "726684\n",
            "Miraculous World - Xangai, a Lenda de Lady Dragon\n",
            "[16, 35, 10751, 12]\n",
            "Ladybug decide visitar seu tio em Xangai, mas quando chega a cidade acaba sendo roubada e os ladrões levam sua bolsa com o Tikki. Sem dinheiro e sozinha na cidade, a heroína aceita a ajuda de uma jovem inteligente chamada Fei. As duas então se juntam em uma grande aventura e descobrem e existência de uma nova joia poderosa.\n",
            "1122.433\n",
            "489\n",
            "809314\n",
            "Trigger Point\n",
            "[28, 53]\n",
            "Segue Nicolas Shaw, um agente especial aposentado dos EUA que se torna parte de uma equipe de elite \"invisível\" que discretamente elimina os piores vilões do mundo.\n",
            "1105.453\n",
            "64\n",
            "615658\n",
            "Awake\n",
            "[28, 12, 18, 878, 53]\n",
            "O caos se instala no planeta depois que um acontecimento global neutraliza todos os equipamentos eletrônicos e acaba com a capacidade humana de dormir. Mas Jill (Gina Rodriguez), uma ex-militar com um passado problemático, pode ter a chave para a cura: sua própria filha.\n",
            "1102.949\n",
            "495\n",
            "423108\n",
            "Invocação do Mal 3: A Ordem do Demônio\n",
            "[27, 9648, 53]\n",
            "Revela uma história arrepiante de terror, assassinato e um mal desconhecido que chocou até os investigadores paranormais da vida real, Ed e Lorraine Warren. Um dos casos mais intrigantes de seus arquivos, começa com uma luta pela alma de um garoto, depois os leva além de tudo o que já haviam visto antes, para marcar a primeira vez na história dos EUA um suspeito de assassinato alega possessão demoníaca como defesa.\n",
            "1075.485\n",
            "3058\n",
            "385687\n",
            "Velozes & Furiosos 10\n",
            "[28, 80]\n",
            "\n",
            "1060.715\n",
            "0\n"
          ],
          "name": "stdout"
        }
      ]
    },
    {
      "cell_type": "code",
      "metadata": {
        "id": "wFZzhn9ks4fa"
      },
      "source": [
        "df = pd.DataFrame(columns=['id', 'title', 'genre_ids', 'overview', 'popularity', 'vote_count'])"
      ],
      "execution_count": null,
      "outputs": []
    },
    {
      "cell_type": "code",
      "metadata": {
        "id": "N-fPrbpgA54e"
      },
      "source": [
        "# ARMAZENANDO EM UM DATAFRAME E EXIBINDO\n",
        "\n",
        "popular = movie.popular()\n",
        "count = 0\n",
        "for p in popular:\n",
        "  df.loc[count] = [p.id]+[p.title]+[p.genre_ids]+[p.overview]+[p.popularity]+[p.vote_count]\n",
        "  count += 1"
      ],
      "execution_count": null,
      "outputs": []
    },
    {
      "cell_type": "code",
      "metadata": {
        "id": "29c07egbA56n",
        "colab": {
          "base_uri": "https://localhost:8080/",
          "height": 205
        },
        "outputId": "50e3c07e-44fe-4d67-f937-392cf6b109e9"
      },
      "source": [
        "df.head()"
      ],
      "execution_count": null,
      "outputs": [
        {
          "output_type": "execute_result",
          "data": {
            "text/html": [
              "<div>\n",
              "<style scoped>\n",
              "    .dataframe tbody tr th:only-of-type {\n",
              "        vertical-align: middle;\n",
              "    }\n",
              "\n",
              "    .dataframe tbody tr th {\n",
              "        vertical-align: top;\n",
              "    }\n",
              "\n",
              "    .dataframe thead th {\n",
              "        text-align: right;\n",
              "    }\n",
              "</style>\n",
              "<table border=\"1\" class=\"dataframe\">\n",
              "  <thead>\n",
              "    <tr style=\"text-align: right;\">\n",
              "      <th></th>\n",
              "      <th>id</th>\n",
              "      <th>title</th>\n",
              "      <th>genre_ids</th>\n",
              "      <th>overview</th>\n",
              "      <th>popularity</th>\n",
              "      <th>vote_count</th>\n",
              "    </tr>\n",
              "  </thead>\n",
              "  <tbody>\n",
              "    <tr>\n",
              "      <th>0</th>\n",
              "      <td>497698</td>\n",
              "      <td>Viúva Negra</td>\n",
              "      <td>[28, 12, 53, 878]</td>\n",
              "      <td>Natasha Romanoff \"Viúva Negra\" precisa confron...</td>\n",
              "      <td>9692.351</td>\n",
              "      <td>2446</td>\n",
              "    </tr>\n",
              "    <tr>\n",
              "      <th>1</th>\n",
              "      <td>588228</td>\n",
              "      <td>A Guerra do Amanhã</td>\n",
              "      <td>[28, 878]</td>\n",
              "      <td>Em 2051, a humanidade está perdendo uma guerra...</td>\n",
              "      <td>4299.876</td>\n",
              "      <td>2405</td>\n",
              "    </tr>\n",
              "    <tr>\n",
              "      <th>2</th>\n",
              "      <td>459151</td>\n",
              "      <td>O Poderoso Chefinho 2: Negócios da Família</td>\n",
              "      <td>[16, 35, 12, 10751]</td>\n",
              "      <td>Tim Templeton e seu irmão mais novo Ted, o fam...</td>\n",
              "      <td>4197.649</td>\n",
              "      <td>609</td>\n",
              "    </tr>\n",
              "    <tr>\n",
              "      <th>3</th>\n",
              "      <td>508943</td>\n",
              "      <td>Luca</td>\n",
              "      <td>[16, 35, 10751, 14]</td>\n",
              "      <td>Ambientado na bela Riviera Italiana, este long...</td>\n",
              "      <td>3445.126</td>\n",
              "      <td>2791</td>\n",
              "    </tr>\n",
              "    <tr>\n",
              "      <th>4</th>\n",
              "      <td>522478</td>\n",
              "      <td>Pedro Coelho 2: O Fugitivo</td>\n",
              "      <td>[10751, 35, 12, 16, 14]</td>\n",
              "      <td>Bea, Thomas e os coelhos construíram uma famil...</td>\n",
              "      <td>2324.541</td>\n",
              "      <td>156</td>\n",
              "    </tr>\n",
              "  </tbody>\n",
              "</table>\n",
              "</div>"
            ],
            "text/plain": [
              "       id                                       title  ... popularity vote_count\n",
              "0  497698                                 Viúva Negra  ...   9692.351       2446\n",
              "1  588228                          A Guerra do Amanhã  ...   4299.876       2405\n",
              "2  459151  O Poderoso Chefinho 2: Negócios da Família  ...   4197.649        609\n",
              "3  508943                                        Luca  ...   3445.126       2791\n",
              "4  522478                  Pedro Coelho 2: O Fugitivo  ...   2324.541        156\n",
              "\n",
              "[5 rows x 6 columns]"
            ]
          },
          "metadata": {
            "tags": []
          },
          "execution_count": 70
        }
      ]
    },
    {
      "cell_type": "code",
      "metadata": {
        "colab": {
          "base_uri": "https://localhost:8080/"
        },
        "id": "4qfMZ2yfY7fj",
        "outputId": "82c1935a-add2-4d15-812f-22ded5d78aba"
      },
      "source": [
        "len_df = len(df)\n",
        "print(len_df)"
      ],
      "execution_count": null,
      "outputs": [
        {
          "output_type": "stream",
          "text": [
            "20\n"
          ],
          "name": "stdout"
        }
      ]
    },
    {
      "cell_type": "code",
      "metadata": {
        "colab": {
          "base_uri": "https://localhost:8080/",
          "height": 205
        },
        "id": "quIIv8LTY7os",
        "outputId": "3b247cd0-7fb9-411b-c602-ade115ee7e9f"
      },
      "source": [
        "# ORDENANDO 1 ATRIBUTO \n",
        "\n",
        "df = df.sort_values(by='vote_count', ascending=False)\n",
        "\n",
        "df.head()"
      ],
      "execution_count": null,
      "outputs": [
        {
          "output_type": "execute_result",
          "data": {
            "text/html": [
              "<div>\n",
              "<style scoped>\n",
              "    .dataframe tbody tr th:only-of-type {\n",
              "        vertical-align: middle;\n",
              "    }\n",
              "\n",
              "    .dataframe tbody tr th {\n",
              "        vertical-align: top;\n",
              "    }\n",
              "\n",
              "    .dataframe thead th {\n",
              "        text-align: right;\n",
              "    }\n",
              "</style>\n",
              "<table border=\"1\" class=\"dataframe\">\n",
              "  <thead>\n",
              "    <tr style=\"text-align: right;\">\n",
              "      <th></th>\n",
              "      <th>id</th>\n",
              "      <th>title</th>\n",
              "      <th>genre_ids</th>\n",
              "      <th>overview</th>\n",
              "      <th>popularity</th>\n",
              "      <th>vote_count</th>\n",
              "    </tr>\n",
              "  </thead>\n",
              "  <tbody>\n",
              "    <tr>\n",
              "      <th>12</th>\n",
              "      <td>337404</td>\n",
              "      <td>Cruella</td>\n",
              "      <td>[35, 80]</td>\n",
              "      <td>Na Londres dos anos 70 em meio à revolução do ...</td>\n",
              "      <td>1557.866</td>\n",
              "      <td>4077</td>\n",
              "    </tr>\n",
              "    <tr>\n",
              "      <th>18</th>\n",
              "      <td>423108</td>\n",
              "      <td>Invocação do Mal 3: A Ordem do Demônio</td>\n",
              "      <td>[27, 9648, 53]</td>\n",
              "      <td>Revela uma história arrepiante de terror, assa...</td>\n",
              "      <td>1075.485</td>\n",
              "      <td>3058</td>\n",
              "    </tr>\n",
              "    <tr>\n",
              "      <th>3</th>\n",
              "      <td>508943</td>\n",
              "      <td>Luca</td>\n",
              "      <td>[16, 35, 10751, 14]</td>\n",
              "      <td>Ambientado na bela Riviera Italiana, este long...</td>\n",
              "      <td>3445.126</td>\n",
              "      <td>2791</td>\n",
              "    </tr>\n",
              "    <tr>\n",
              "      <th>0</th>\n",
              "      <td>497698</td>\n",
              "      <td>Viúva Negra</td>\n",
              "      <td>[28, 12, 53, 878]</td>\n",
              "      <td>Natasha Romanoff \"Viúva Negra\" precisa confron...</td>\n",
              "      <td>9692.351</td>\n",
              "      <td>2446</td>\n",
              "    </tr>\n",
              "    <tr>\n",
              "      <th>1</th>\n",
              "      <td>588228</td>\n",
              "      <td>A Guerra do Amanhã</td>\n",
              "      <td>[28, 878]</td>\n",
              "      <td>Em 2051, a humanidade está perdendo uma guerra...</td>\n",
              "      <td>4299.876</td>\n",
              "      <td>2405</td>\n",
              "    </tr>\n",
              "  </tbody>\n",
              "</table>\n",
              "</div>"
            ],
            "text/plain": [
              "        id                                   title  ... popularity vote_count\n",
              "12  337404                                 Cruella  ...   1557.866       4077\n",
              "18  423108  Invocação do Mal 3: A Ordem do Demônio  ...   1075.485       3058\n",
              "3   508943                                    Luca  ...   3445.126       2791\n",
              "0   497698                             Viúva Negra  ...   9692.351       2446\n",
              "1   588228                      A Guerra do Amanhã  ...   4299.876       2405\n",
              "\n",
              "[5 rows x 6 columns]"
            ]
          },
          "metadata": {
            "tags": []
          },
          "execution_count": 74
        }
      ]
    },
    {
      "cell_type": "code",
      "metadata": {
        "colab": {
          "base_uri": "https://localhost:8080/",
          "height": 81
        },
        "id": "kgakZBOuY7rd",
        "outputId": "fdfde885-b43a-41aa-b631-35ce98cd9fb6"
      },
      "source": [
        "# FILTRAGEM EM UM ATRIBUTO\n",
        "\n",
        "\n",
        "filter = df.loc[(df.title==\"Awake\")]\n",
        "filter.head()\n"
      ],
      "execution_count": null,
      "outputs": [
        {
          "output_type": "execute_result",
          "data": {
            "text/html": [
              "<div>\n",
              "<style scoped>\n",
              "    .dataframe tbody tr th:only-of-type {\n",
              "        vertical-align: middle;\n",
              "    }\n",
              "\n",
              "    .dataframe tbody tr th {\n",
              "        vertical-align: top;\n",
              "    }\n",
              "\n",
              "    .dataframe thead th {\n",
              "        text-align: right;\n",
              "    }\n",
              "</style>\n",
              "<table border=\"1\" class=\"dataframe\">\n",
              "  <thead>\n",
              "    <tr style=\"text-align: right;\">\n",
              "      <th></th>\n",
              "      <th>id</th>\n",
              "      <th>title</th>\n",
              "      <th>genre_ids</th>\n",
              "      <th>overview</th>\n",
              "      <th>popularity</th>\n",
              "      <th>vote_count</th>\n",
              "    </tr>\n",
              "  </thead>\n",
              "  <tbody>\n",
              "    <tr>\n",
              "      <th>17</th>\n",
              "      <td>615658</td>\n",
              "      <td>Awake</td>\n",
              "      <td>[28, 12, 18, 878, 53]</td>\n",
              "      <td>O caos se instala no planeta depois que um aco...</td>\n",
              "      <td>1102.949</td>\n",
              "      <td>495</td>\n",
              "    </tr>\n",
              "  </tbody>\n",
              "</table>\n",
              "</div>"
            ],
            "text/plain": [
              "        id  title  ... popularity vote_count\n",
              "17  615658  Awake  ...   1102.949        495\n",
              "\n",
              "[1 rows x 6 columns]"
            ]
          },
          "metadata": {
            "tags": []
          },
          "execution_count": 76
        }
      ]
    }
  ]
}